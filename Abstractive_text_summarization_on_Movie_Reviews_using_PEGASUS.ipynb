{
  "nbformat": 4,
  "nbformat_minor": 0,
  "metadata": {
    "colab": {
      "provenance": [],
      "mount_file_id": "1kREWa8SN1w6kjMpqFnH8r6bed-qhoU1E",
      "authorship_tag": "ABX9TyMeMDEKQsAjWoRf4ILuqvYe",
      "include_colab_link": true
    },
    "kernelspec": {
      "name": "python3",
      "display_name": "Python 3"
    },
    "language_info": {
      "name": "python"
    },
    "gpuClass": "standard",
    "widgets": {
      "application/vnd.jupyter.widget-state+json": {
        "046c036f570d4915b479738c791f7a2d": {
          "model_module": "@jupyter-widgets/controls",
          "model_name": "HBoxModel",
          "model_module_version": "1.5.0",
          "state": {
            "_dom_classes": [],
            "_model_module": "@jupyter-widgets/controls",
            "_model_module_version": "1.5.0",
            "_model_name": "HBoxModel",
            "_view_count": null,
            "_view_module": "@jupyter-widgets/controls",
            "_view_module_version": "1.5.0",
            "_view_name": "HBoxView",
            "box_style": "",
            "children": [
              "IPY_MODEL_a576db9c8125436980463391f20bcc0d",
              "IPY_MODEL_34fad9b70c1b4f0aabca64f598b6352c",
              "IPY_MODEL_44b2924656af4a6a97b561d024e3c837"
            ],
            "layout": "IPY_MODEL_31599f6e022248b09480f2c965b6d1cc"
          }
        },
        "a576db9c8125436980463391f20bcc0d": {
          "model_module": "@jupyter-widgets/controls",
          "model_name": "HTMLModel",
          "model_module_version": "1.5.0",
          "state": {
            "_dom_classes": [],
            "_model_module": "@jupyter-widgets/controls",
            "_model_module_version": "1.5.0",
            "_model_name": "HTMLModel",
            "_view_count": null,
            "_view_module": "@jupyter-widgets/controls",
            "_view_module_version": "1.5.0",
            "_view_name": "HTMLView",
            "description": "",
            "description_tooltip": null,
            "layout": "IPY_MODEL_52d19436766745599d7884ae510f38b2",
            "placeholder": "​",
            "style": "IPY_MODEL_b3556bfa05a9427fa0b791f8d02003dd",
            "value": "Downloading spiece.model: 100%"
          }
        },
        "34fad9b70c1b4f0aabca64f598b6352c": {
          "model_module": "@jupyter-widgets/controls",
          "model_name": "FloatProgressModel",
          "model_module_version": "1.5.0",
          "state": {
            "_dom_classes": [],
            "_model_module": "@jupyter-widgets/controls",
            "_model_module_version": "1.5.0",
            "_model_name": "FloatProgressModel",
            "_view_count": null,
            "_view_module": "@jupyter-widgets/controls",
            "_view_module_version": "1.5.0",
            "_view_name": "ProgressView",
            "bar_style": "success",
            "description": "",
            "description_tooltip": null,
            "layout": "IPY_MODEL_674d38f485f24c8db8f928537a7100d1",
            "max": 1912529,
            "min": 0,
            "orientation": "horizontal",
            "style": "IPY_MODEL_aeed6945f9f14c92aa810c1698a9b3e3",
            "value": 1912529
          }
        },
        "44b2924656af4a6a97b561d024e3c837": {
          "model_module": "@jupyter-widgets/controls",
          "model_name": "HTMLModel",
          "model_module_version": "1.5.0",
          "state": {
            "_dom_classes": [],
            "_model_module": "@jupyter-widgets/controls",
            "_model_module_version": "1.5.0",
            "_model_name": "HTMLModel",
            "_view_count": null,
            "_view_module": "@jupyter-widgets/controls",
            "_view_module_version": "1.5.0",
            "_view_name": "HTMLView",
            "description": "",
            "description_tooltip": null,
            "layout": "IPY_MODEL_4b2ae2da2dcb48648e162e923186ad57",
            "placeholder": "​",
            "style": "IPY_MODEL_78f67d17e5b34bd08f748291ac9e2b17",
            "value": " 1.82M/1.82M [00:00&lt;00:00, 15.6MB/s]"
          }
        },
        "31599f6e022248b09480f2c965b6d1cc": {
          "model_module": "@jupyter-widgets/base",
          "model_name": "LayoutModel",
          "model_module_version": "1.2.0",
          "state": {
            "_model_module": "@jupyter-widgets/base",
            "_model_module_version": "1.2.0",
            "_model_name": "LayoutModel",
            "_view_count": null,
            "_view_module": "@jupyter-widgets/base",
            "_view_module_version": "1.2.0",
            "_view_name": "LayoutView",
            "align_content": null,
            "align_items": null,
            "align_self": null,
            "border": null,
            "bottom": null,
            "display": null,
            "flex": null,
            "flex_flow": null,
            "grid_area": null,
            "grid_auto_columns": null,
            "grid_auto_flow": null,
            "grid_auto_rows": null,
            "grid_column": null,
            "grid_gap": null,
            "grid_row": null,
            "grid_template_areas": null,
            "grid_template_columns": null,
            "grid_template_rows": null,
            "height": null,
            "justify_content": null,
            "justify_items": null,
            "left": null,
            "margin": null,
            "max_height": null,
            "max_width": null,
            "min_height": null,
            "min_width": null,
            "object_fit": null,
            "object_position": null,
            "order": null,
            "overflow": null,
            "overflow_x": null,
            "overflow_y": null,
            "padding": null,
            "right": null,
            "top": null,
            "visibility": null,
            "width": null
          }
        },
        "52d19436766745599d7884ae510f38b2": {
          "model_module": "@jupyter-widgets/base",
          "model_name": "LayoutModel",
          "model_module_version": "1.2.0",
          "state": {
            "_model_module": "@jupyter-widgets/base",
            "_model_module_version": "1.2.0",
            "_model_name": "LayoutModel",
            "_view_count": null,
            "_view_module": "@jupyter-widgets/base",
            "_view_module_version": "1.2.0",
            "_view_name": "LayoutView",
            "align_content": null,
            "align_items": null,
            "align_self": null,
            "border": null,
            "bottom": null,
            "display": null,
            "flex": null,
            "flex_flow": null,
            "grid_area": null,
            "grid_auto_columns": null,
            "grid_auto_flow": null,
            "grid_auto_rows": null,
            "grid_column": null,
            "grid_gap": null,
            "grid_row": null,
            "grid_template_areas": null,
            "grid_template_columns": null,
            "grid_template_rows": null,
            "height": null,
            "justify_content": null,
            "justify_items": null,
            "left": null,
            "margin": null,
            "max_height": null,
            "max_width": null,
            "min_height": null,
            "min_width": null,
            "object_fit": null,
            "object_position": null,
            "order": null,
            "overflow": null,
            "overflow_x": null,
            "overflow_y": null,
            "padding": null,
            "right": null,
            "top": null,
            "visibility": null,
            "width": null
          }
        },
        "b3556bfa05a9427fa0b791f8d02003dd": {
          "model_module": "@jupyter-widgets/controls",
          "model_name": "DescriptionStyleModel",
          "model_module_version": "1.5.0",
          "state": {
            "_model_module": "@jupyter-widgets/controls",
            "_model_module_version": "1.5.0",
            "_model_name": "DescriptionStyleModel",
            "_view_count": null,
            "_view_module": "@jupyter-widgets/base",
            "_view_module_version": "1.2.0",
            "_view_name": "StyleView",
            "description_width": ""
          }
        },
        "674d38f485f24c8db8f928537a7100d1": {
          "model_module": "@jupyter-widgets/base",
          "model_name": "LayoutModel",
          "model_module_version": "1.2.0",
          "state": {
            "_model_module": "@jupyter-widgets/base",
            "_model_module_version": "1.2.0",
            "_model_name": "LayoutModel",
            "_view_count": null,
            "_view_module": "@jupyter-widgets/base",
            "_view_module_version": "1.2.0",
            "_view_name": "LayoutView",
            "align_content": null,
            "align_items": null,
            "align_self": null,
            "border": null,
            "bottom": null,
            "display": null,
            "flex": null,
            "flex_flow": null,
            "grid_area": null,
            "grid_auto_columns": null,
            "grid_auto_flow": null,
            "grid_auto_rows": null,
            "grid_column": null,
            "grid_gap": null,
            "grid_row": null,
            "grid_template_areas": null,
            "grid_template_columns": null,
            "grid_template_rows": null,
            "height": null,
            "justify_content": null,
            "justify_items": null,
            "left": null,
            "margin": null,
            "max_height": null,
            "max_width": null,
            "min_height": null,
            "min_width": null,
            "object_fit": null,
            "object_position": null,
            "order": null,
            "overflow": null,
            "overflow_x": null,
            "overflow_y": null,
            "padding": null,
            "right": null,
            "top": null,
            "visibility": null,
            "width": null
          }
        },
        "aeed6945f9f14c92aa810c1698a9b3e3": {
          "model_module": "@jupyter-widgets/controls",
          "model_name": "ProgressStyleModel",
          "model_module_version": "1.5.0",
          "state": {
            "_model_module": "@jupyter-widgets/controls",
            "_model_module_version": "1.5.0",
            "_model_name": "ProgressStyleModel",
            "_view_count": null,
            "_view_module": "@jupyter-widgets/base",
            "_view_module_version": "1.2.0",
            "_view_name": "StyleView",
            "bar_color": null,
            "description_width": ""
          }
        },
        "4b2ae2da2dcb48648e162e923186ad57": {
          "model_module": "@jupyter-widgets/base",
          "model_name": "LayoutModel",
          "model_module_version": "1.2.0",
          "state": {
            "_model_module": "@jupyter-widgets/base",
            "_model_module_version": "1.2.0",
            "_model_name": "LayoutModel",
            "_view_count": null,
            "_view_module": "@jupyter-widgets/base",
            "_view_module_version": "1.2.0",
            "_view_name": "LayoutView",
            "align_content": null,
            "align_items": null,
            "align_self": null,
            "border": null,
            "bottom": null,
            "display": null,
            "flex": null,
            "flex_flow": null,
            "grid_area": null,
            "grid_auto_columns": null,
            "grid_auto_flow": null,
            "grid_auto_rows": null,
            "grid_column": null,
            "grid_gap": null,
            "grid_row": null,
            "grid_template_areas": null,
            "grid_template_columns": null,
            "grid_template_rows": null,
            "height": null,
            "justify_content": null,
            "justify_items": null,
            "left": null,
            "margin": null,
            "max_height": null,
            "max_width": null,
            "min_height": null,
            "min_width": null,
            "object_fit": null,
            "object_position": null,
            "order": null,
            "overflow": null,
            "overflow_x": null,
            "overflow_y": null,
            "padding": null,
            "right": null,
            "top": null,
            "visibility": null,
            "width": null
          }
        },
        "78f67d17e5b34bd08f748291ac9e2b17": {
          "model_module": "@jupyter-widgets/controls",
          "model_name": "DescriptionStyleModel",
          "model_module_version": "1.5.0",
          "state": {
            "_model_module": "@jupyter-widgets/controls",
            "_model_module_version": "1.5.0",
            "_model_name": "DescriptionStyleModel",
            "_view_count": null,
            "_view_module": "@jupyter-widgets/base",
            "_view_module_version": "1.2.0",
            "_view_name": "StyleView",
            "description_width": ""
          }
        },
        "3ab67c83448d4d2a8034ba608ce48efa": {
          "model_module": "@jupyter-widgets/controls",
          "model_name": "HBoxModel",
          "model_module_version": "1.5.0",
          "state": {
            "_dom_classes": [],
            "_model_module": "@jupyter-widgets/controls",
            "_model_module_version": "1.5.0",
            "_model_name": "HBoxModel",
            "_view_count": null,
            "_view_module": "@jupyter-widgets/controls",
            "_view_module_version": "1.5.0",
            "_view_name": "HBoxView",
            "box_style": "",
            "children": [
              "IPY_MODEL_100906eb891448ceaac3a254862b1e3d",
              "IPY_MODEL_93179058b68a4230afb7a2ce48de13dc",
              "IPY_MODEL_d47045f8e06241fc89431294c5a35231"
            ],
            "layout": "IPY_MODEL_3ce0835420d749599124f7be0436095f"
          }
        },
        "100906eb891448ceaac3a254862b1e3d": {
          "model_module": "@jupyter-widgets/controls",
          "model_name": "HTMLModel",
          "model_module_version": "1.5.0",
          "state": {
            "_dom_classes": [],
            "_model_module": "@jupyter-widgets/controls",
            "_model_module_version": "1.5.0",
            "_model_name": "HTMLModel",
            "_view_count": null,
            "_view_module": "@jupyter-widgets/controls",
            "_view_module_version": "1.5.0",
            "_view_name": "HTMLView",
            "description": "",
            "description_tooltip": null,
            "layout": "IPY_MODEL_91022570837b43c094e5db2638640844",
            "placeholder": "​",
            "style": "IPY_MODEL_a12928b11103440a9b2c3911817cde7e",
            "value": "Downloading special_tokens_map.json: 100%"
          }
        },
        "93179058b68a4230afb7a2ce48de13dc": {
          "model_module": "@jupyter-widgets/controls",
          "model_name": "FloatProgressModel",
          "model_module_version": "1.5.0",
          "state": {
            "_dom_classes": [],
            "_model_module": "@jupyter-widgets/controls",
            "_model_module_version": "1.5.0",
            "_model_name": "FloatProgressModel",
            "_view_count": null,
            "_view_module": "@jupyter-widgets/controls",
            "_view_module_version": "1.5.0",
            "_view_name": "ProgressView",
            "bar_style": "success",
            "description": "",
            "description_tooltip": null,
            "layout": "IPY_MODEL_b22ee7bb95794edebab3e65c94c4c8cb",
            "max": 65,
            "min": 0,
            "orientation": "horizontal",
            "style": "IPY_MODEL_b5022a3f182846fdb24de6fc524706fe",
            "value": 65
          }
        },
        "d47045f8e06241fc89431294c5a35231": {
          "model_module": "@jupyter-widgets/controls",
          "model_name": "HTMLModel",
          "model_module_version": "1.5.0",
          "state": {
            "_dom_classes": [],
            "_model_module": "@jupyter-widgets/controls",
            "_model_module_version": "1.5.0",
            "_model_name": "HTMLModel",
            "_view_count": null,
            "_view_module": "@jupyter-widgets/controls",
            "_view_module_version": "1.5.0",
            "_view_name": "HTMLView",
            "description": "",
            "description_tooltip": null,
            "layout": "IPY_MODEL_49366cb689b24621be1520cc6baef83c",
            "placeholder": "​",
            "style": "IPY_MODEL_569c2ca535cf4174ad162fcbe515fcc5",
            "value": " 65.0/65.0 [00:00&lt;00:00, 1.01kB/s]"
          }
        },
        "3ce0835420d749599124f7be0436095f": {
          "model_module": "@jupyter-widgets/base",
          "model_name": "LayoutModel",
          "model_module_version": "1.2.0",
          "state": {
            "_model_module": "@jupyter-widgets/base",
            "_model_module_version": "1.2.0",
            "_model_name": "LayoutModel",
            "_view_count": null,
            "_view_module": "@jupyter-widgets/base",
            "_view_module_version": "1.2.0",
            "_view_name": "LayoutView",
            "align_content": null,
            "align_items": null,
            "align_self": null,
            "border": null,
            "bottom": null,
            "display": null,
            "flex": null,
            "flex_flow": null,
            "grid_area": null,
            "grid_auto_columns": null,
            "grid_auto_flow": null,
            "grid_auto_rows": null,
            "grid_column": null,
            "grid_gap": null,
            "grid_row": null,
            "grid_template_areas": null,
            "grid_template_columns": null,
            "grid_template_rows": null,
            "height": null,
            "justify_content": null,
            "justify_items": null,
            "left": null,
            "margin": null,
            "max_height": null,
            "max_width": null,
            "min_height": null,
            "min_width": null,
            "object_fit": null,
            "object_position": null,
            "order": null,
            "overflow": null,
            "overflow_x": null,
            "overflow_y": null,
            "padding": null,
            "right": null,
            "top": null,
            "visibility": null,
            "width": null
          }
        },
        "91022570837b43c094e5db2638640844": {
          "model_module": "@jupyter-widgets/base",
          "model_name": "LayoutModel",
          "model_module_version": "1.2.0",
          "state": {
            "_model_module": "@jupyter-widgets/base",
            "_model_module_version": "1.2.0",
            "_model_name": "LayoutModel",
            "_view_count": null,
            "_view_module": "@jupyter-widgets/base",
            "_view_module_version": "1.2.0",
            "_view_name": "LayoutView",
            "align_content": null,
            "align_items": null,
            "align_self": null,
            "border": null,
            "bottom": null,
            "display": null,
            "flex": null,
            "flex_flow": null,
            "grid_area": null,
            "grid_auto_columns": null,
            "grid_auto_flow": null,
            "grid_auto_rows": null,
            "grid_column": null,
            "grid_gap": null,
            "grid_row": null,
            "grid_template_areas": null,
            "grid_template_columns": null,
            "grid_template_rows": null,
            "height": null,
            "justify_content": null,
            "justify_items": null,
            "left": null,
            "margin": null,
            "max_height": null,
            "max_width": null,
            "min_height": null,
            "min_width": null,
            "object_fit": null,
            "object_position": null,
            "order": null,
            "overflow": null,
            "overflow_x": null,
            "overflow_y": null,
            "padding": null,
            "right": null,
            "top": null,
            "visibility": null,
            "width": null
          }
        },
        "a12928b11103440a9b2c3911817cde7e": {
          "model_module": "@jupyter-widgets/controls",
          "model_name": "DescriptionStyleModel",
          "model_module_version": "1.5.0",
          "state": {
            "_model_module": "@jupyter-widgets/controls",
            "_model_module_version": "1.5.0",
            "_model_name": "DescriptionStyleModel",
            "_view_count": null,
            "_view_module": "@jupyter-widgets/base",
            "_view_module_version": "1.2.0",
            "_view_name": "StyleView",
            "description_width": ""
          }
        },
        "b22ee7bb95794edebab3e65c94c4c8cb": {
          "model_module": "@jupyter-widgets/base",
          "model_name": "LayoutModel",
          "model_module_version": "1.2.0",
          "state": {
            "_model_module": "@jupyter-widgets/base",
            "_model_module_version": "1.2.0",
            "_model_name": "LayoutModel",
            "_view_count": null,
            "_view_module": "@jupyter-widgets/base",
            "_view_module_version": "1.2.0",
            "_view_name": "LayoutView",
            "align_content": null,
            "align_items": null,
            "align_self": null,
            "border": null,
            "bottom": null,
            "display": null,
            "flex": null,
            "flex_flow": null,
            "grid_area": null,
            "grid_auto_columns": null,
            "grid_auto_flow": null,
            "grid_auto_rows": null,
            "grid_column": null,
            "grid_gap": null,
            "grid_row": null,
            "grid_template_areas": null,
            "grid_template_columns": null,
            "grid_template_rows": null,
            "height": null,
            "justify_content": null,
            "justify_items": null,
            "left": null,
            "margin": null,
            "max_height": null,
            "max_width": null,
            "min_height": null,
            "min_width": null,
            "object_fit": null,
            "object_position": null,
            "order": null,
            "overflow": null,
            "overflow_x": null,
            "overflow_y": null,
            "padding": null,
            "right": null,
            "top": null,
            "visibility": null,
            "width": null
          }
        },
        "b5022a3f182846fdb24de6fc524706fe": {
          "model_module": "@jupyter-widgets/controls",
          "model_name": "ProgressStyleModel",
          "model_module_version": "1.5.0",
          "state": {
            "_model_module": "@jupyter-widgets/controls",
            "_model_module_version": "1.5.0",
            "_model_name": "ProgressStyleModel",
            "_view_count": null,
            "_view_module": "@jupyter-widgets/base",
            "_view_module_version": "1.2.0",
            "_view_name": "StyleView",
            "bar_color": null,
            "description_width": ""
          }
        },
        "49366cb689b24621be1520cc6baef83c": {
          "model_module": "@jupyter-widgets/base",
          "model_name": "LayoutModel",
          "model_module_version": "1.2.0",
          "state": {
            "_model_module": "@jupyter-widgets/base",
            "_model_module_version": "1.2.0",
            "_model_name": "LayoutModel",
            "_view_count": null,
            "_view_module": "@jupyter-widgets/base",
            "_view_module_version": "1.2.0",
            "_view_name": "LayoutView",
            "align_content": null,
            "align_items": null,
            "align_self": null,
            "border": null,
            "bottom": null,
            "display": null,
            "flex": null,
            "flex_flow": null,
            "grid_area": null,
            "grid_auto_columns": null,
            "grid_auto_flow": null,
            "grid_auto_rows": null,
            "grid_column": null,
            "grid_gap": null,
            "grid_row": null,
            "grid_template_areas": null,
            "grid_template_columns": null,
            "grid_template_rows": null,
            "height": null,
            "justify_content": null,
            "justify_items": null,
            "left": null,
            "margin": null,
            "max_height": null,
            "max_width": null,
            "min_height": null,
            "min_width": null,
            "object_fit": null,
            "object_position": null,
            "order": null,
            "overflow": null,
            "overflow_x": null,
            "overflow_y": null,
            "padding": null,
            "right": null,
            "top": null,
            "visibility": null,
            "width": null
          }
        },
        "569c2ca535cf4174ad162fcbe515fcc5": {
          "model_module": "@jupyter-widgets/controls",
          "model_name": "DescriptionStyleModel",
          "model_module_version": "1.5.0",
          "state": {
            "_model_module": "@jupyter-widgets/controls",
            "_model_module_version": "1.5.0",
            "_model_name": "DescriptionStyleModel",
            "_view_count": null,
            "_view_module": "@jupyter-widgets/base",
            "_view_module_version": "1.2.0",
            "_view_name": "StyleView",
            "description_width": ""
          }
        },
        "be013697ad204304864f30a70f352eb0": {
          "model_module": "@jupyter-widgets/controls",
          "model_name": "HBoxModel",
          "model_module_version": "1.5.0",
          "state": {
            "_dom_classes": [],
            "_model_module": "@jupyter-widgets/controls",
            "_model_module_version": "1.5.0",
            "_model_name": "HBoxModel",
            "_view_count": null,
            "_view_module": "@jupyter-widgets/controls",
            "_view_module_version": "1.5.0",
            "_view_name": "HBoxView",
            "box_style": "",
            "children": [
              "IPY_MODEL_16f802f6b09f4452b4e4f7accaa8e681",
              "IPY_MODEL_c12a440c91c145cd81df2ddc62db145f",
              "IPY_MODEL_c630a3b192b147b78eaf43f25b1d5470"
            ],
            "layout": "IPY_MODEL_be2ad7a7cfb04e7c8069c44c9630fe70"
          }
        },
        "16f802f6b09f4452b4e4f7accaa8e681": {
          "model_module": "@jupyter-widgets/controls",
          "model_name": "HTMLModel",
          "model_module_version": "1.5.0",
          "state": {
            "_dom_classes": [],
            "_model_module": "@jupyter-widgets/controls",
            "_model_module_version": "1.5.0",
            "_model_name": "HTMLModel",
            "_view_count": null,
            "_view_module": "@jupyter-widgets/controls",
            "_view_module_version": "1.5.0",
            "_view_name": "HTMLView",
            "description": "",
            "description_tooltip": null,
            "layout": "IPY_MODEL_8335389a193c41aaad86739852aa84ed",
            "placeholder": "​",
            "style": "IPY_MODEL_018b5c99bb634e0bb92f7a9a26ceb438",
            "value": "Downloading tokenizer_config.json: 100%"
          }
        },
        "c12a440c91c145cd81df2ddc62db145f": {
          "model_module": "@jupyter-widgets/controls",
          "model_name": "FloatProgressModel",
          "model_module_version": "1.5.0",
          "state": {
            "_dom_classes": [],
            "_model_module": "@jupyter-widgets/controls",
            "_model_module_version": "1.5.0",
            "_model_name": "FloatProgressModel",
            "_view_count": null,
            "_view_module": "@jupyter-widgets/controls",
            "_view_module_version": "1.5.0",
            "_view_name": "ProgressView",
            "bar_style": "success",
            "description": "",
            "description_tooltip": null,
            "layout": "IPY_MODEL_f2a197989ee647a6b957c8e001816169",
            "max": 87,
            "min": 0,
            "orientation": "horizontal",
            "style": "IPY_MODEL_ed9369ed061a43f2a4d5b6f8a3287f18",
            "value": 87
          }
        },
        "c630a3b192b147b78eaf43f25b1d5470": {
          "model_module": "@jupyter-widgets/controls",
          "model_name": "HTMLModel",
          "model_module_version": "1.5.0",
          "state": {
            "_dom_classes": [],
            "_model_module": "@jupyter-widgets/controls",
            "_model_module_version": "1.5.0",
            "_model_name": "HTMLModel",
            "_view_count": null,
            "_view_module": "@jupyter-widgets/controls",
            "_view_module_version": "1.5.0",
            "_view_name": "HTMLView",
            "description": "",
            "description_tooltip": null,
            "layout": "IPY_MODEL_bc6d33f8380c43af8372f5c04c15ec90",
            "placeholder": "​",
            "style": "IPY_MODEL_0093c03a48fa4c7a83c714317846688f",
            "value": " 87.0/87.0 [00:00&lt;00:00, 2.00kB/s]"
          }
        },
        "be2ad7a7cfb04e7c8069c44c9630fe70": {
          "model_module": "@jupyter-widgets/base",
          "model_name": "LayoutModel",
          "model_module_version": "1.2.0",
          "state": {
            "_model_module": "@jupyter-widgets/base",
            "_model_module_version": "1.2.0",
            "_model_name": "LayoutModel",
            "_view_count": null,
            "_view_module": "@jupyter-widgets/base",
            "_view_module_version": "1.2.0",
            "_view_name": "LayoutView",
            "align_content": null,
            "align_items": null,
            "align_self": null,
            "border": null,
            "bottom": null,
            "display": null,
            "flex": null,
            "flex_flow": null,
            "grid_area": null,
            "grid_auto_columns": null,
            "grid_auto_flow": null,
            "grid_auto_rows": null,
            "grid_column": null,
            "grid_gap": null,
            "grid_row": null,
            "grid_template_areas": null,
            "grid_template_columns": null,
            "grid_template_rows": null,
            "height": null,
            "justify_content": null,
            "justify_items": null,
            "left": null,
            "margin": null,
            "max_height": null,
            "max_width": null,
            "min_height": null,
            "min_width": null,
            "object_fit": null,
            "object_position": null,
            "order": null,
            "overflow": null,
            "overflow_x": null,
            "overflow_y": null,
            "padding": null,
            "right": null,
            "top": null,
            "visibility": null,
            "width": null
          }
        },
        "8335389a193c41aaad86739852aa84ed": {
          "model_module": "@jupyter-widgets/base",
          "model_name": "LayoutModel",
          "model_module_version": "1.2.0",
          "state": {
            "_model_module": "@jupyter-widgets/base",
            "_model_module_version": "1.2.0",
            "_model_name": "LayoutModel",
            "_view_count": null,
            "_view_module": "@jupyter-widgets/base",
            "_view_module_version": "1.2.0",
            "_view_name": "LayoutView",
            "align_content": null,
            "align_items": null,
            "align_self": null,
            "border": null,
            "bottom": null,
            "display": null,
            "flex": null,
            "flex_flow": null,
            "grid_area": null,
            "grid_auto_columns": null,
            "grid_auto_flow": null,
            "grid_auto_rows": null,
            "grid_column": null,
            "grid_gap": null,
            "grid_row": null,
            "grid_template_areas": null,
            "grid_template_columns": null,
            "grid_template_rows": null,
            "height": null,
            "justify_content": null,
            "justify_items": null,
            "left": null,
            "margin": null,
            "max_height": null,
            "max_width": null,
            "min_height": null,
            "min_width": null,
            "object_fit": null,
            "object_position": null,
            "order": null,
            "overflow": null,
            "overflow_x": null,
            "overflow_y": null,
            "padding": null,
            "right": null,
            "top": null,
            "visibility": null,
            "width": null
          }
        },
        "018b5c99bb634e0bb92f7a9a26ceb438": {
          "model_module": "@jupyter-widgets/controls",
          "model_name": "DescriptionStyleModel",
          "model_module_version": "1.5.0",
          "state": {
            "_model_module": "@jupyter-widgets/controls",
            "_model_module_version": "1.5.0",
            "_model_name": "DescriptionStyleModel",
            "_view_count": null,
            "_view_module": "@jupyter-widgets/base",
            "_view_module_version": "1.2.0",
            "_view_name": "StyleView",
            "description_width": ""
          }
        },
        "f2a197989ee647a6b957c8e001816169": {
          "model_module": "@jupyter-widgets/base",
          "model_name": "LayoutModel",
          "model_module_version": "1.2.0",
          "state": {
            "_model_module": "@jupyter-widgets/base",
            "_model_module_version": "1.2.0",
            "_model_name": "LayoutModel",
            "_view_count": null,
            "_view_module": "@jupyter-widgets/base",
            "_view_module_version": "1.2.0",
            "_view_name": "LayoutView",
            "align_content": null,
            "align_items": null,
            "align_self": null,
            "border": null,
            "bottom": null,
            "display": null,
            "flex": null,
            "flex_flow": null,
            "grid_area": null,
            "grid_auto_columns": null,
            "grid_auto_flow": null,
            "grid_auto_rows": null,
            "grid_column": null,
            "grid_gap": null,
            "grid_row": null,
            "grid_template_areas": null,
            "grid_template_columns": null,
            "grid_template_rows": null,
            "height": null,
            "justify_content": null,
            "justify_items": null,
            "left": null,
            "margin": null,
            "max_height": null,
            "max_width": null,
            "min_height": null,
            "min_width": null,
            "object_fit": null,
            "object_position": null,
            "order": null,
            "overflow": null,
            "overflow_x": null,
            "overflow_y": null,
            "padding": null,
            "right": null,
            "top": null,
            "visibility": null,
            "width": null
          }
        },
        "ed9369ed061a43f2a4d5b6f8a3287f18": {
          "model_module": "@jupyter-widgets/controls",
          "model_name": "ProgressStyleModel",
          "model_module_version": "1.5.0",
          "state": {
            "_model_module": "@jupyter-widgets/controls",
            "_model_module_version": "1.5.0",
            "_model_name": "ProgressStyleModel",
            "_view_count": null,
            "_view_module": "@jupyter-widgets/base",
            "_view_module_version": "1.2.0",
            "_view_name": "StyleView",
            "bar_color": null,
            "description_width": ""
          }
        },
        "bc6d33f8380c43af8372f5c04c15ec90": {
          "model_module": "@jupyter-widgets/base",
          "model_name": "LayoutModel",
          "model_module_version": "1.2.0",
          "state": {
            "_model_module": "@jupyter-widgets/base",
            "_model_module_version": "1.2.0",
            "_model_name": "LayoutModel",
            "_view_count": null,
            "_view_module": "@jupyter-widgets/base",
            "_view_module_version": "1.2.0",
            "_view_name": "LayoutView",
            "align_content": null,
            "align_items": null,
            "align_self": null,
            "border": null,
            "bottom": null,
            "display": null,
            "flex": null,
            "flex_flow": null,
            "grid_area": null,
            "grid_auto_columns": null,
            "grid_auto_flow": null,
            "grid_auto_rows": null,
            "grid_column": null,
            "grid_gap": null,
            "grid_row": null,
            "grid_template_areas": null,
            "grid_template_columns": null,
            "grid_template_rows": null,
            "height": null,
            "justify_content": null,
            "justify_items": null,
            "left": null,
            "margin": null,
            "max_height": null,
            "max_width": null,
            "min_height": null,
            "min_width": null,
            "object_fit": null,
            "object_position": null,
            "order": null,
            "overflow": null,
            "overflow_x": null,
            "overflow_y": null,
            "padding": null,
            "right": null,
            "top": null,
            "visibility": null,
            "width": null
          }
        },
        "0093c03a48fa4c7a83c714317846688f": {
          "model_module": "@jupyter-widgets/controls",
          "model_name": "DescriptionStyleModel",
          "model_module_version": "1.5.0",
          "state": {
            "_model_module": "@jupyter-widgets/controls",
            "_model_module_version": "1.5.0",
            "_model_name": "DescriptionStyleModel",
            "_view_count": null,
            "_view_module": "@jupyter-widgets/base",
            "_view_module_version": "1.2.0",
            "_view_name": "StyleView",
            "description_width": ""
          }
        },
        "d7468e47e7684b82841f4e606b029ca2": {
          "model_module": "@jupyter-widgets/controls",
          "model_name": "HBoxModel",
          "model_module_version": "1.5.0",
          "state": {
            "_dom_classes": [],
            "_model_module": "@jupyter-widgets/controls",
            "_model_module_version": "1.5.0",
            "_model_name": "HBoxModel",
            "_view_count": null,
            "_view_module": "@jupyter-widgets/controls",
            "_view_module_version": "1.5.0",
            "_view_name": "HBoxView",
            "box_style": "",
            "children": [
              "IPY_MODEL_48ef5c543275410aa245fd15f76edff7",
              "IPY_MODEL_49dc2dc97cb644528f539bf3fc4cd633",
              "IPY_MODEL_3e00e4756351491fa953514634c6bad3"
            ],
            "layout": "IPY_MODEL_b0f0f785c4b347ae93242e4c85ab703e"
          }
        },
        "48ef5c543275410aa245fd15f76edff7": {
          "model_module": "@jupyter-widgets/controls",
          "model_name": "HTMLModel",
          "model_module_version": "1.5.0",
          "state": {
            "_dom_classes": [],
            "_model_module": "@jupyter-widgets/controls",
            "_model_module_version": "1.5.0",
            "_model_name": "HTMLModel",
            "_view_count": null,
            "_view_module": "@jupyter-widgets/controls",
            "_view_module_version": "1.5.0",
            "_view_name": "HTMLView",
            "description": "",
            "description_tooltip": null,
            "layout": "IPY_MODEL_35d243511f5046fd82c8ae9808225a8d",
            "placeholder": "​",
            "style": "IPY_MODEL_fc6ae2828446438991fdd4fbec82a7fd",
            "value": "Downloading config.json: 100%"
          }
        },
        "49dc2dc97cb644528f539bf3fc4cd633": {
          "model_module": "@jupyter-widgets/controls",
          "model_name": "FloatProgressModel",
          "model_module_version": "1.5.0",
          "state": {
            "_dom_classes": [],
            "_model_module": "@jupyter-widgets/controls",
            "_model_module_version": "1.5.0",
            "_model_name": "FloatProgressModel",
            "_view_count": null,
            "_view_module": "@jupyter-widgets/controls",
            "_view_module_version": "1.5.0",
            "_view_name": "ProgressView",
            "bar_style": "success",
            "description": "",
            "description_tooltip": null,
            "layout": "IPY_MODEL_2fab87e2fe0b43afbef4228bd67db93f",
            "max": 1392,
            "min": 0,
            "orientation": "horizontal",
            "style": "IPY_MODEL_535c03dc54934dc1afa7e5dd3e43bb9d",
            "value": 1392
          }
        },
        "3e00e4756351491fa953514634c6bad3": {
          "model_module": "@jupyter-widgets/controls",
          "model_name": "HTMLModel",
          "model_module_version": "1.5.0",
          "state": {
            "_dom_classes": [],
            "_model_module": "@jupyter-widgets/controls",
            "_model_module_version": "1.5.0",
            "_model_name": "HTMLModel",
            "_view_count": null,
            "_view_module": "@jupyter-widgets/controls",
            "_view_module_version": "1.5.0",
            "_view_name": "HTMLView",
            "description": "",
            "description_tooltip": null,
            "layout": "IPY_MODEL_acf3d670aaab415d85aef5355fe9a29f",
            "placeholder": "​",
            "style": "IPY_MODEL_a3fbfc1bbca54d318c7396e29ee31a64",
            "value": " 1.36k/1.36k [00:00&lt;00:00, 38.4kB/s]"
          }
        },
        "b0f0f785c4b347ae93242e4c85ab703e": {
          "model_module": "@jupyter-widgets/base",
          "model_name": "LayoutModel",
          "model_module_version": "1.2.0",
          "state": {
            "_model_module": "@jupyter-widgets/base",
            "_model_module_version": "1.2.0",
            "_model_name": "LayoutModel",
            "_view_count": null,
            "_view_module": "@jupyter-widgets/base",
            "_view_module_version": "1.2.0",
            "_view_name": "LayoutView",
            "align_content": null,
            "align_items": null,
            "align_self": null,
            "border": null,
            "bottom": null,
            "display": null,
            "flex": null,
            "flex_flow": null,
            "grid_area": null,
            "grid_auto_columns": null,
            "grid_auto_flow": null,
            "grid_auto_rows": null,
            "grid_column": null,
            "grid_gap": null,
            "grid_row": null,
            "grid_template_areas": null,
            "grid_template_columns": null,
            "grid_template_rows": null,
            "height": null,
            "justify_content": null,
            "justify_items": null,
            "left": null,
            "margin": null,
            "max_height": null,
            "max_width": null,
            "min_height": null,
            "min_width": null,
            "object_fit": null,
            "object_position": null,
            "order": null,
            "overflow": null,
            "overflow_x": null,
            "overflow_y": null,
            "padding": null,
            "right": null,
            "top": null,
            "visibility": null,
            "width": null
          }
        },
        "35d243511f5046fd82c8ae9808225a8d": {
          "model_module": "@jupyter-widgets/base",
          "model_name": "LayoutModel",
          "model_module_version": "1.2.0",
          "state": {
            "_model_module": "@jupyter-widgets/base",
            "_model_module_version": "1.2.0",
            "_model_name": "LayoutModel",
            "_view_count": null,
            "_view_module": "@jupyter-widgets/base",
            "_view_module_version": "1.2.0",
            "_view_name": "LayoutView",
            "align_content": null,
            "align_items": null,
            "align_self": null,
            "border": null,
            "bottom": null,
            "display": null,
            "flex": null,
            "flex_flow": null,
            "grid_area": null,
            "grid_auto_columns": null,
            "grid_auto_flow": null,
            "grid_auto_rows": null,
            "grid_column": null,
            "grid_gap": null,
            "grid_row": null,
            "grid_template_areas": null,
            "grid_template_columns": null,
            "grid_template_rows": null,
            "height": null,
            "justify_content": null,
            "justify_items": null,
            "left": null,
            "margin": null,
            "max_height": null,
            "max_width": null,
            "min_height": null,
            "min_width": null,
            "object_fit": null,
            "object_position": null,
            "order": null,
            "overflow": null,
            "overflow_x": null,
            "overflow_y": null,
            "padding": null,
            "right": null,
            "top": null,
            "visibility": null,
            "width": null
          }
        },
        "fc6ae2828446438991fdd4fbec82a7fd": {
          "model_module": "@jupyter-widgets/controls",
          "model_name": "DescriptionStyleModel",
          "model_module_version": "1.5.0",
          "state": {
            "_model_module": "@jupyter-widgets/controls",
            "_model_module_version": "1.5.0",
            "_model_name": "DescriptionStyleModel",
            "_view_count": null,
            "_view_module": "@jupyter-widgets/base",
            "_view_module_version": "1.2.0",
            "_view_name": "StyleView",
            "description_width": ""
          }
        },
        "2fab87e2fe0b43afbef4228bd67db93f": {
          "model_module": "@jupyter-widgets/base",
          "model_name": "LayoutModel",
          "model_module_version": "1.2.0",
          "state": {
            "_model_module": "@jupyter-widgets/base",
            "_model_module_version": "1.2.0",
            "_model_name": "LayoutModel",
            "_view_count": null,
            "_view_module": "@jupyter-widgets/base",
            "_view_module_version": "1.2.0",
            "_view_name": "LayoutView",
            "align_content": null,
            "align_items": null,
            "align_self": null,
            "border": null,
            "bottom": null,
            "display": null,
            "flex": null,
            "flex_flow": null,
            "grid_area": null,
            "grid_auto_columns": null,
            "grid_auto_flow": null,
            "grid_auto_rows": null,
            "grid_column": null,
            "grid_gap": null,
            "grid_row": null,
            "grid_template_areas": null,
            "grid_template_columns": null,
            "grid_template_rows": null,
            "height": null,
            "justify_content": null,
            "justify_items": null,
            "left": null,
            "margin": null,
            "max_height": null,
            "max_width": null,
            "min_height": null,
            "min_width": null,
            "object_fit": null,
            "object_position": null,
            "order": null,
            "overflow": null,
            "overflow_x": null,
            "overflow_y": null,
            "padding": null,
            "right": null,
            "top": null,
            "visibility": null,
            "width": null
          }
        },
        "535c03dc54934dc1afa7e5dd3e43bb9d": {
          "model_module": "@jupyter-widgets/controls",
          "model_name": "ProgressStyleModel",
          "model_module_version": "1.5.0",
          "state": {
            "_model_module": "@jupyter-widgets/controls",
            "_model_module_version": "1.5.0",
            "_model_name": "ProgressStyleModel",
            "_view_count": null,
            "_view_module": "@jupyter-widgets/base",
            "_view_module_version": "1.2.0",
            "_view_name": "StyleView",
            "bar_color": null,
            "description_width": ""
          }
        },
        "acf3d670aaab415d85aef5355fe9a29f": {
          "model_module": "@jupyter-widgets/base",
          "model_name": "LayoutModel",
          "model_module_version": "1.2.0",
          "state": {
            "_model_module": "@jupyter-widgets/base",
            "_model_module_version": "1.2.0",
            "_model_name": "LayoutModel",
            "_view_count": null,
            "_view_module": "@jupyter-widgets/base",
            "_view_module_version": "1.2.0",
            "_view_name": "LayoutView",
            "align_content": null,
            "align_items": null,
            "align_self": null,
            "border": null,
            "bottom": null,
            "display": null,
            "flex": null,
            "flex_flow": null,
            "grid_area": null,
            "grid_auto_columns": null,
            "grid_auto_flow": null,
            "grid_auto_rows": null,
            "grid_column": null,
            "grid_gap": null,
            "grid_row": null,
            "grid_template_areas": null,
            "grid_template_columns": null,
            "grid_template_rows": null,
            "height": null,
            "justify_content": null,
            "justify_items": null,
            "left": null,
            "margin": null,
            "max_height": null,
            "max_width": null,
            "min_height": null,
            "min_width": null,
            "object_fit": null,
            "object_position": null,
            "order": null,
            "overflow": null,
            "overflow_x": null,
            "overflow_y": null,
            "padding": null,
            "right": null,
            "top": null,
            "visibility": null,
            "width": null
          }
        },
        "a3fbfc1bbca54d318c7396e29ee31a64": {
          "model_module": "@jupyter-widgets/controls",
          "model_name": "DescriptionStyleModel",
          "model_module_version": "1.5.0",
          "state": {
            "_model_module": "@jupyter-widgets/controls",
            "_model_module_version": "1.5.0",
            "_model_name": "DescriptionStyleModel",
            "_view_count": null,
            "_view_module": "@jupyter-widgets/base",
            "_view_module_version": "1.2.0",
            "_view_name": "StyleView",
            "description_width": ""
          }
        },
        "7652f5dcafe5450cabf89f518dcb2580": {
          "model_module": "@jupyter-widgets/controls",
          "model_name": "HBoxModel",
          "model_module_version": "1.5.0",
          "state": {
            "_dom_classes": [],
            "_model_module": "@jupyter-widgets/controls",
            "_model_module_version": "1.5.0",
            "_model_name": "HBoxModel",
            "_view_count": null,
            "_view_module": "@jupyter-widgets/controls",
            "_view_module_version": "1.5.0",
            "_view_name": "HBoxView",
            "box_style": "",
            "children": [
              "IPY_MODEL_af7bc10440154be691c755ceeecf5e07",
              "IPY_MODEL_a16e611e16964c5582f1bdec47388f9c",
              "IPY_MODEL_30424d8fbdd84f64963fc77e975e54b5"
            ],
            "layout": "IPY_MODEL_875b57bc04b742879dd69c7e2763721f"
          }
        },
        "af7bc10440154be691c755ceeecf5e07": {
          "model_module": "@jupyter-widgets/controls",
          "model_name": "HTMLModel",
          "model_module_version": "1.5.0",
          "state": {
            "_dom_classes": [],
            "_model_module": "@jupyter-widgets/controls",
            "_model_module_version": "1.5.0",
            "_model_name": "HTMLModel",
            "_view_count": null,
            "_view_module": "@jupyter-widgets/controls",
            "_view_module_version": "1.5.0",
            "_view_name": "HTMLView",
            "description": "",
            "description_tooltip": null,
            "layout": "IPY_MODEL_c572345ef21f446593b0d517781c1584",
            "placeholder": "​",
            "style": "IPY_MODEL_1d726fbe1b5a4a3f9cdba06ce07b37dd",
            "value": "Downloading pytorch_model.bin: 100%"
          }
        },
        "a16e611e16964c5582f1bdec47388f9c": {
          "model_module": "@jupyter-widgets/controls",
          "model_name": "FloatProgressModel",
          "model_module_version": "1.5.0",
          "state": {
            "_dom_classes": [],
            "_model_module": "@jupyter-widgets/controls",
            "_model_module_version": "1.5.0",
            "_model_name": "FloatProgressModel",
            "_view_count": null,
            "_view_module": "@jupyter-widgets/controls",
            "_view_module_version": "1.5.0",
            "_view_name": "ProgressView",
            "bar_style": "success",
            "description": "",
            "description_tooltip": null,
            "layout": "IPY_MODEL_49766e8729f94c74a831e052a5c3b606",
            "max": 2275329241,
            "min": 0,
            "orientation": "horizontal",
            "style": "IPY_MODEL_2b79f7b9bb2b4cddb94e0a10f73f1e15",
            "value": 2275329241
          }
        },
        "30424d8fbdd84f64963fc77e975e54b5": {
          "model_module": "@jupyter-widgets/controls",
          "model_name": "HTMLModel",
          "model_module_version": "1.5.0",
          "state": {
            "_dom_classes": [],
            "_model_module": "@jupyter-widgets/controls",
            "_model_module_version": "1.5.0",
            "_model_name": "HTMLModel",
            "_view_count": null,
            "_view_module": "@jupyter-widgets/controls",
            "_view_module_version": "1.5.0",
            "_view_name": "HTMLView",
            "description": "",
            "description_tooltip": null,
            "layout": "IPY_MODEL_c6dc85f02a4640c0ba16e7ece278882f",
            "placeholder": "​",
            "style": "IPY_MODEL_904881a422724c7989a7cf92e9ffb550",
            "value": " 2.12G/2.12G [01:09&lt;00:00, 37.7MB/s]"
          }
        },
        "875b57bc04b742879dd69c7e2763721f": {
          "model_module": "@jupyter-widgets/base",
          "model_name": "LayoutModel",
          "model_module_version": "1.2.0",
          "state": {
            "_model_module": "@jupyter-widgets/base",
            "_model_module_version": "1.2.0",
            "_model_name": "LayoutModel",
            "_view_count": null,
            "_view_module": "@jupyter-widgets/base",
            "_view_module_version": "1.2.0",
            "_view_name": "LayoutView",
            "align_content": null,
            "align_items": null,
            "align_self": null,
            "border": null,
            "bottom": null,
            "display": null,
            "flex": null,
            "flex_flow": null,
            "grid_area": null,
            "grid_auto_columns": null,
            "grid_auto_flow": null,
            "grid_auto_rows": null,
            "grid_column": null,
            "grid_gap": null,
            "grid_row": null,
            "grid_template_areas": null,
            "grid_template_columns": null,
            "grid_template_rows": null,
            "height": null,
            "justify_content": null,
            "justify_items": null,
            "left": null,
            "margin": null,
            "max_height": null,
            "max_width": null,
            "min_height": null,
            "min_width": null,
            "object_fit": null,
            "object_position": null,
            "order": null,
            "overflow": null,
            "overflow_x": null,
            "overflow_y": null,
            "padding": null,
            "right": null,
            "top": null,
            "visibility": null,
            "width": null
          }
        },
        "c572345ef21f446593b0d517781c1584": {
          "model_module": "@jupyter-widgets/base",
          "model_name": "LayoutModel",
          "model_module_version": "1.2.0",
          "state": {
            "_model_module": "@jupyter-widgets/base",
            "_model_module_version": "1.2.0",
            "_model_name": "LayoutModel",
            "_view_count": null,
            "_view_module": "@jupyter-widgets/base",
            "_view_module_version": "1.2.0",
            "_view_name": "LayoutView",
            "align_content": null,
            "align_items": null,
            "align_self": null,
            "border": null,
            "bottom": null,
            "display": null,
            "flex": null,
            "flex_flow": null,
            "grid_area": null,
            "grid_auto_columns": null,
            "grid_auto_flow": null,
            "grid_auto_rows": null,
            "grid_column": null,
            "grid_gap": null,
            "grid_row": null,
            "grid_template_areas": null,
            "grid_template_columns": null,
            "grid_template_rows": null,
            "height": null,
            "justify_content": null,
            "justify_items": null,
            "left": null,
            "margin": null,
            "max_height": null,
            "max_width": null,
            "min_height": null,
            "min_width": null,
            "object_fit": null,
            "object_position": null,
            "order": null,
            "overflow": null,
            "overflow_x": null,
            "overflow_y": null,
            "padding": null,
            "right": null,
            "top": null,
            "visibility": null,
            "width": null
          }
        },
        "1d726fbe1b5a4a3f9cdba06ce07b37dd": {
          "model_module": "@jupyter-widgets/controls",
          "model_name": "DescriptionStyleModel",
          "model_module_version": "1.5.0",
          "state": {
            "_model_module": "@jupyter-widgets/controls",
            "_model_module_version": "1.5.0",
            "_model_name": "DescriptionStyleModel",
            "_view_count": null,
            "_view_module": "@jupyter-widgets/base",
            "_view_module_version": "1.2.0",
            "_view_name": "StyleView",
            "description_width": ""
          }
        },
        "49766e8729f94c74a831e052a5c3b606": {
          "model_module": "@jupyter-widgets/base",
          "model_name": "LayoutModel",
          "model_module_version": "1.2.0",
          "state": {
            "_model_module": "@jupyter-widgets/base",
            "_model_module_version": "1.2.0",
            "_model_name": "LayoutModel",
            "_view_count": null,
            "_view_module": "@jupyter-widgets/base",
            "_view_module_version": "1.2.0",
            "_view_name": "LayoutView",
            "align_content": null,
            "align_items": null,
            "align_self": null,
            "border": null,
            "bottom": null,
            "display": null,
            "flex": null,
            "flex_flow": null,
            "grid_area": null,
            "grid_auto_columns": null,
            "grid_auto_flow": null,
            "grid_auto_rows": null,
            "grid_column": null,
            "grid_gap": null,
            "grid_row": null,
            "grid_template_areas": null,
            "grid_template_columns": null,
            "grid_template_rows": null,
            "height": null,
            "justify_content": null,
            "justify_items": null,
            "left": null,
            "margin": null,
            "max_height": null,
            "max_width": null,
            "min_height": null,
            "min_width": null,
            "object_fit": null,
            "object_position": null,
            "order": null,
            "overflow": null,
            "overflow_x": null,
            "overflow_y": null,
            "padding": null,
            "right": null,
            "top": null,
            "visibility": null,
            "width": null
          }
        },
        "2b79f7b9bb2b4cddb94e0a10f73f1e15": {
          "model_module": "@jupyter-widgets/controls",
          "model_name": "ProgressStyleModel",
          "model_module_version": "1.5.0",
          "state": {
            "_model_module": "@jupyter-widgets/controls",
            "_model_module_version": "1.5.0",
            "_model_name": "ProgressStyleModel",
            "_view_count": null,
            "_view_module": "@jupyter-widgets/base",
            "_view_module_version": "1.2.0",
            "_view_name": "StyleView",
            "bar_color": null,
            "description_width": ""
          }
        },
        "c6dc85f02a4640c0ba16e7ece278882f": {
          "model_module": "@jupyter-widgets/base",
          "model_name": "LayoutModel",
          "model_module_version": "1.2.0",
          "state": {
            "_model_module": "@jupyter-widgets/base",
            "_model_module_version": "1.2.0",
            "_model_name": "LayoutModel",
            "_view_count": null,
            "_view_module": "@jupyter-widgets/base",
            "_view_module_version": "1.2.0",
            "_view_name": "LayoutView",
            "align_content": null,
            "align_items": null,
            "align_self": null,
            "border": null,
            "bottom": null,
            "display": null,
            "flex": null,
            "flex_flow": null,
            "grid_area": null,
            "grid_auto_columns": null,
            "grid_auto_flow": null,
            "grid_auto_rows": null,
            "grid_column": null,
            "grid_gap": null,
            "grid_row": null,
            "grid_template_areas": null,
            "grid_template_columns": null,
            "grid_template_rows": null,
            "height": null,
            "justify_content": null,
            "justify_items": null,
            "left": null,
            "margin": null,
            "max_height": null,
            "max_width": null,
            "min_height": null,
            "min_width": null,
            "object_fit": null,
            "object_position": null,
            "order": null,
            "overflow": null,
            "overflow_x": null,
            "overflow_y": null,
            "padding": null,
            "right": null,
            "top": null,
            "visibility": null,
            "width": null
          }
        },
        "904881a422724c7989a7cf92e9ffb550": {
          "model_module": "@jupyter-widgets/controls",
          "model_name": "DescriptionStyleModel",
          "model_module_version": "1.5.0",
          "state": {
            "_model_module": "@jupyter-widgets/controls",
            "_model_module_version": "1.5.0",
            "_model_name": "DescriptionStyleModel",
            "_view_count": null,
            "_view_module": "@jupyter-widgets/base",
            "_view_module_version": "1.2.0",
            "_view_name": "StyleView",
            "description_width": ""
          }
        }
      }
    }
  },
  "cells": [
    {
      "cell_type": "markdown",
      "metadata": {
        "id": "view-in-github",
        "colab_type": "text"
      },
      "source": [
        "<a href=\"https://colab.research.google.com/github/prathyusha1311/Abstractive-Text-summarization-on-Movie-Reviews-using-PEGASUS/blob/main/Abstractive_text_summarization_on_Movie_Reviews_using_PEGASUS.ipynb\" target=\"_parent\"><img src=\"https://colab.research.google.com/assets/colab-badge.svg\" alt=\"Open In Colab\"/></a>"
      ]
    },
    {
      "cell_type": "markdown",
      "source": [
        "#Abstractive text summaeization using Pegasus - (Pre-training with Extracted Gap-sentences for Abstractive Summarization)"
      ],
      "metadata": {
        "id": "214RnLf-8Arx"
      }
    },
    {
      "cell_type": "markdown",
      "source": [
        "### Importing the required libraries "
      ],
      "metadata": {
        "id": "GkY4ipzG7k9O"
      }
    },
    {
      "cell_type": "code",
      "source": [
        "import pandas as pd\n",
        "import re"
      ],
      "metadata": {
        "id": "7kj3Kx7k8-Jk"
      },
      "execution_count": null,
      "outputs": []
    },
    {
      "cell_type": "markdown",
      "source": [
        "### Installing Pytorch in the enviroment "
      ],
      "metadata": {
        "id": "UBKw7HVN7sGn"
      }
    },
    {
      "cell_type": "code",
      "source": [
        "# Install PyTorch\n",
        "!pip install torch==1.8.2+cu111 torchvision==0.9.2+cu111 torchaudio===0.8.2 -f https://download.pytorch.org/whl/lts/1.8/torch_lts.html"
      ],
      "metadata": {
        "colab": {
          "base_uri": "https://localhost:8080/"
        },
        "id": "OueDtH_eweMt",
        "outputId": "44e972f1-e6fa-49ac-8414-7ab943b33eac"
      },
      "execution_count": null,
      "outputs": [
        {
          "output_type": "stream",
          "name": "stdout",
          "text": [
            "Looking in indexes: https://pypi.org/simple, https://us-python.pkg.dev/colab-wheels/public/simple/\n",
            "Looking in links: https://download.pytorch.org/whl/lts/1.8/torch_lts.html\n",
            "Requirement already satisfied: torch==1.8.2+cu111 in /usr/local/lib/python3.7/dist-packages (1.8.2+cu111)\n",
            "Requirement already satisfied: torchvision==0.9.2+cu111 in /usr/local/lib/python3.7/dist-packages (0.9.2+cu111)\n",
            "Requirement already satisfied: torchaudio===0.8.2 in /usr/local/lib/python3.7/dist-packages (0.8.2)\n",
            "Requirement already satisfied: numpy in /usr/local/lib/python3.7/dist-packages (from torch==1.8.2+cu111) (1.21.6)\n",
            "Requirement already satisfied: typing-extensions in /usr/local/lib/python3.7/dist-packages (from torch==1.8.2+cu111) (4.1.1)\n",
            "Requirement already satisfied: pillow>=4.1.1 in /usr/local/lib/python3.7/dist-packages (from torchvision==0.9.2+cu111) (7.1.2)\n"
          ]
        }
      ]
    },
    {
      "cell_type": "markdown",
      "source": [
        "### Installing the transformer module along with their dependencies from Hugging Face \n",
        "\n",
        "Here the PEGASUS pre-trained transformer model has been used to solve the issue of Abstractive text summarization. A special XSum pegasus model has been utilized to perform summarization which generates a one line summary of the entire text which is inputted.\n",
        "\n",
        "- Link to the pegasus research Paper : https://arxiv.org/pdf/1912.08777.pdf \n",
        "- Link to access the Google XSum Pegasus model from Hugging Face: https://huggingface.co/google/pegasus-xsum \n",
        "\n",
        "\n"
      ],
      "metadata": {
        "id": "E_8APhK97yD9"
      }
    },
    {
      "cell_type": "code",
      "source": [
        "\n",
        "!pip install transformers"
      ],
      "metadata": {
        "colab": {
          "base_uri": "https://localhost:8080/"
        },
        "id": "Sx3UasxaQrjj",
        "outputId": "2abe8a7a-d4ec-4203-de4d-473f094ed09d"
      },
      "execution_count": null,
      "outputs": [
        {
          "output_type": "stream",
          "name": "stdout",
          "text": [
            "Looking in indexes: https://pypi.org/simple, https://us-python.pkg.dev/colab-wheels/public/simple/\n",
            "Requirement already satisfied: transformers in /usr/local/lib/python3.7/dist-packages (4.21.0)\n",
            "Requirement already satisfied: pyyaml>=5.1 in /usr/local/lib/python3.7/dist-packages (from transformers) (6.0)\n",
            "Requirement already satisfied: tokenizers!=0.11.3,<0.13,>=0.11.1 in /usr/local/lib/python3.7/dist-packages (from transformers) (0.12.1)\n",
            "Requirement already satisfied: packaging>=20.0 in /usr/local/lib/python3.7/dist-packages (from transformers) (21.3)\n",
            "Requirement already satisfied: importlib-metadata in /usr/local/lib/python3.7/dist-packages (from transformers) (4.12.0)\n",
            "Requirement already satisfied: filelock in /usr/local/lib/python3.7/dist-packages (from transformers) (3.7.1)\n",
            "Requirement already satisfied: tqdm>=4.27 in /usr/local/lib/python3.7/dist-packages (from transformers) (4.64.0)\n",
            "Requirement already satisfied: regex!=2019.12.17 in /usr/local/lib/python3.7/dist-packages (from transformers) (2022.6.2)\n",
            "Requirement already satisfied: numpy>=1.17 in /usr/local/lib/python3.7/dist-packages (from transformers) (1.21.6)\n",
            "Requirement already satisfied: requests in /usr/local/lib/python3.7/dist-packages (from transformers) (2.23.0)\n",
            "Requirement already satisfied: huggingface-hub<1.0,>=0.1.0 in /usr/local/lib/python3.7/dist-packages (from transformers) (0.8.1)\n",
            "Requirement already satisfied: typing-extensions>=3.7.4.3 in /usr/local/lib/python3.7/dist-packages (from huggingface-hub<1.0,>=0.1.0->transformers) (4.1.1)\n",
            "Requirement already satisfied: pyparsing!=3.0.5,>=2.0.2 in /usr/local/lib/python3.7/dist-packages (from packaging>=20.0->transformers) (3.0.9)\n",
            "Requirement already satisfied: zipp>=0.5 in /usr/local/lib/python3.7/dist-packages (from importlib-metadata->transformers) (3.8.1)\n",
            "Requirement already satisfied: certifi>=2017.4.17 in /usr/local/lib/python3.7/dist-packages (from requests->transformers) (2022.6.15)\n",
            "Requirement already satisfied: chardet<4,>=3.0.2 in /usr/local/lib/python3.7/dist-packages (from requests->transformers) (3.0.4)\n",
            "Requirement already satisfied: urllib3!=1.25.0,!=1.25.1,<1.26,>=1.21.1 in /usr/local/lib/python3.7/dist-packages (from requests->transformers) (1.24.3)\n",
            "Requirement already satisfied: idna<3,>=2.5 in /usr/local/lib/python3.7/dist-packages (from requests->transformers) (2.10)\n"
          ]
        }
      ]
    },
    {
      "cell_type": "code",
      "source": [
        "# Importing dependencies from transformers\n",
        "from transformers import PegasusForConditionalGeneration, PegasusTokenizer"
      ],
      "metadata": {
        "id": "h4rIeE11uWQ4"
      },
      "execution_count": null,
      "outputs": []
    },
    {
      "cell_type": "markdown",
      "source": [
        "### Dataset used: \n",
        "\n",
        "Dataset - https://ieee-dataport.org/open-access/imdb-movie-reviews-dataset \n",
        "\n",
        "Used IMDB dataset. This dataset contains nearly 1 Million unique movie reviews from 1150 different IMDb movies spread across 17 IMDb genres - Action, Adventure, Animation, Biography, Comedy, Crime, Drama, Fantasy, History, Horror, Music, Mystery, Romance, Sci-Fi, Sport, Thriller and War. The dataset also contains movie metadata such as date of release of the movie, run length, IMDb rating, movie rating (PG-13, R, etc), number of IMDb raters, and number of reviews per movie.\n",
        "\n",
        "If The user choose to watch M0 ( A Beautiful Mind here), a summary is generated by the model in such way that it considers the history of movies the user has watched. Based on the History and the movie he has chosen a customized summary is generated specially for the user.\n",
        "\n",
        "Even though the dataset is huge, only certain part of the dataset has only been utilized. \n",
        "\n",
        "Here in order to develop the abstractive text summariser only 10 movies are considered as watched by the user in the History.\n",
        "\n",
        "#### **Data Preprocessing** \n",
        "1. In order to obtain all the review of the movie M0(A Beautiful Mind), the dataframe has been cleaned by dropping out unneccessary columns like - ['username','rating','helpful','total','date','title'] . \n",
        "2. Converting all the reviews (of string type) into a single text for easy and efficient working of the model and the special characters like $,@,? are also removed .\n",
        "\n"
      ],
      "metadata": {
        "id": "Bts-TqUa9KtU"
      }
    },
    {
      "cell_type": "markdown",
      "source": [
        "A beautiful mind review dataset summarization\n"
      ],
      "metadata": {
        "id": "jxu8thd3uCpW"
      }
    },
    {
      "cell_type": "code",
      "source": [
        "dataset = pd.read_csv(\"/content/drive/MyDrive/IAS/text summarization/Movies reviews/A Beautiful Mind 2001.csv\")"
      ],
      "metadata": {
        "id": "4OjeX70buduf"
      },
      "execution_count": null,
      "outputs": []
    },
    {
      "cell_type": "code",
      "source": [
        "dataset"
      ],
      "metadata": {
        "colab": {
          "base_uri": "https://localhost:8080/",
          "height": 424
        },
        "id": "yAbcv1imvB5e",
        "outputId": "5126fe6f-4c59-4fe8-d487-781ef6c8957c"
      },
      "execution_count": null,
      "outputs": [
        {
          "output_type": "execute_result",
          "data": {
            "text/plain": [
              "              username rating  helpful  total              date  \\\n",
              "0           dfranzen70      9      129    152   23 January 2002   \n",
              "1     The Mad Reviewer     10      250    312   16 January 2002   \n",
              "2               Boyo-2     10      212    269  17 December 2001   \n",
              "3          jonwoolfrey     10      289    379        2 May 2002   \n",
              "4          susan_may21      9      175    230  5 September 2002   \n",
              "...                ...    ...      ...    ...               ...   \n",
              "1263          Unity019     10        0      1    2 January 2002   \n",
              "1264       craig_hutto      9        0      1    2 January 2002   \n",
              "1265        joaqoholic   Null        0      1    2 January 2002   \n",
              "1266          reniperi      9        0      1  18 December 2001   \n",
              "1267         JamesDean      7        0      3   7 December 2001   \n",
              "\n",
              "                                                  title  \\\n",
              "0                   Powerful, quiet, effortless Crowe\\n   \n",
              "1      A beautifully written, acted, and crafted mov...   \n",
              "2                                   A Beautiful Movie\\n   \n",
              "3         A movie with a difference - It's realistic.\\n   \n",
              "4                        Direction makes it beautiful\\n   \n",
              "...                                                 ...   \n",
              "1263   Finally a film that shows the humanity behind...   \n",
              "1264                                         Powerful\\n   \n",
              "1265   Beautiful Performances, Not Quite as Beautifu...   \n",
              "1266                                A Beautiful Movie\\n   \n",
              "1267                          An Unlikely Masterpiece\\n   \n",
              "\n",
              "                                                 review  \n",
              "0     A Beautiful Mind<br/><br/>\\nDirector Ron Howar...  \n",
              "1     A BEAUTIFUL MIND (2001) Rating: 10/10<br/><br/...  \n",
              "2     I think its a good idea to know as little as p...  \n",
              "3     I went along to the movies not really wanting ...  \n",
              "4     \"A Beautiful Mind\" is an exceptional story, bu...  \n",
              "...                                                 ...  \n",
              "1263  I felt this film was a breakthrough for Hollyw...  \n",
              "1264  This film has great acting and a riveting stor...  \n",
              "1265  MINOR SPOILERS<br/><br/>Being an aspiring scie...  \n",
              "1266  Strikingly rich, emotional, and turbulent, thi...  \n",
              "1267  When I went to this advance screening of A Bea...  \n",
              "\n",
              "[1268 rows x 7 columns]"
            ],
            "text/html": [
              "\n",
              "  <div id=\"df-8f00f59d-da97-49d3-887a-49233d499a0e\">\n",
              "    <div class=\"colab-df-container\">\n",
              "      <div>\n",
              "<style scoped>\n",
              "    .dataframe tbody tr th:only-of-type {\n",
              "        vertical-align: middle;\n",
              "    }\n",
              "\n",
              "    .dataframe tbody tr th {\n",
              "        vertical-align: top;\n",
              "    }\n",
              "\n",
              "    .dataframe thead th {\n",
              "        text-align: right;\n",
              "    }\n",
              "</style>\n",
              "<table border=\"1\" class=\"dataframe\">\n",
              "  <thead>\n",
              "    <tr style=\"text-align: right;\">\n",
              "      <th></th>\n",
              "      <th>username</th>\n",
              "      <th>rating</th>\n",
              "      <th>helpful</th>\n",
              "      <th>total</th>\n",
              "      <th>date</th>\n",
              "      <th>title</th>\n",
              "      <th>review</th>\n",
              "    </tr>\n",
              "  </thead>\n",
              "  <tbody>\n",
              "    <tr>\n",
              "      <th>0</th>\n",
              "      <td>dfranzen70</td>\n",
              "      <td>9</td>\n",
              "      <td>129</td>\n",
              "      <td>152</td>\n",
              "      <td>23 January 2002</td>\n",
              "      <td>Powerful, quiet, effortless Crowe\\n</td>\n",
              "      <td>A Beautiful Mind&lt;br/&gt;&lt;br/&gt;\\nDirector Ron Howar...</td>\n",
              "    </tr>\n",
              "    <tr>\n",
              "      <th>1</th>\n",
              "      <td>The Mad Reviewer</td>\n",
              "      <td>10</td>\n",
              "      <td>250</td>\n",
              "      <td>312</td>\n",
              "      <td>16 January 2002</td>\n",
              "      <td>A beautifully written, acted, and crafted mov...</td>\n",
              "      <td>A BEAUTIFUL MIND (2001) Rating: 10/10&lt;br/&gt;&lt;br/...</td>\n",
              "    </tr>\n",
              "    <tr>\n",
              "      <th>2</th>\n",
              "      <td>Boyo-2</td>\n",
              "      <td>10</td>\n",
              "      <td>212</td>\n",
              "      <td>269</td>\n",
              "      <td>17 December 2001</td>\n",
              "      <td>A Beautiful Movie\\n</td>\n",
              "      <td>I think its a good idea to know as little as p...</td>\n",
              "    </tr>\n",
              "    <tr>\n",
              "      <th>3</th>\n",
              "      <td>jonwoolfrey</td>\n",
              "      <td>10</td>\n",
              "      <td>289</td>\n",
              "      <td>379</td>\n",
              "      <td>2 May 2002</td>\n",
              "      <td>A movie with a difference - It's realistic.\\n</td>\n",
              "      <td>I went along to the movies not really wanting ...</td>\n",
              "    </tr>\n",
              "    <tr>\n",
              "      <th>4</th>\n",
              "      <td>susan_may21</td>\n",
              "      <td>9</td>\n",
              "      <td>175</td>\n",
              "      <td>230</td>\n",
              "      <td>5 September 2002</td>\n",
              "      <td>Direction makes it beautiful\\n</td>\n",
              "      <td>\"A Beautiful Mind\" is an exceptional story, bu...</td>\n",
              "    </tr>\n",
              "    <tr>\n",
              "      <th>...</th>\n",
              "      <td>...</td>\n",
              "      <td>...</td>\n",
              "      <td>...</td>\n",
              "      <td>...</td>\n",
              "      <td>...</td>\n",
              "      <td>...</td>\n",
              "      <td>...</td>\n",
              "    </tr>\n",
              "    <tr>\n",
              "      <th>1263</th>\n",
              "      <td>Unity019</td>\n",
              "      <td>10</td>\n",
              "      <td>0</td>\n",
              "      <td>1</td>\n",
              "      <td>2 January 2002</td>\n",
              "      <td>Finally a film that shows the humanity behind...</td>\n",
              "      <td>I felt this film was a breakthrough for Hollyw...</td>\n",
              "    </tr>\n",
              "    <tr>\n",
              "      <th>1264</th>\n",
              "      <td>craig_hutto</td>\n",
              "      <td>9</td>\n",
              "      <td>0</td>\n",
              "      <td>1</td>\n",
              "      <td>2 January 2002</td>\n",
              "      <td>Powerful\\n</td>\n",
              "      <td>This film has great acting and a riveting stor...</td>\n",
              "    </tr>\n",
              "    <tr>\n",
              "      <th>1265</th>\n",
              "      <td>joaqoholic</td>\n",
              "      <td>Null</td>\n",
              "      <td>0</td>\n",
              "      <td>1</td>\n",
              "      <td>2 January 2002</td>\n",
              "      <td>Beautiful Performances, Not Quite as Beautifu...</td>\n",
              "      <td>MINOR SPOILERS&lt;br/&gt;&lt;br/&gt;Being an aspiring scie...</td>\n",
              "    </tr>\n",
              "    <tr>\n",
              "      <th>1266</th>\n",
              "      <td>reniperi</td>\n",
              "      <td>9</td>\n",
              "      <td>0</td>\n",
              "      <td>1</td>\n",
              "      <td>18 December 2001</td>\n",
              "      <td>A Beautiful Movie\\n</td>\n",
              "      <td>Strikingly rich, emotional, and turbulent, thi...</td>\n",
              "    </tr>\n",
              "    <tr>\n",
              "      <th>1267</th>\n",
              "      <td>JamesDean</td>\n",
              "      <td>7</td>\n",
              "      <td>0</td>\n",
              "      <td>3</td>\n",
              "      <td>7 December 2001</td>\n",
              "      <td>An Unlikely Masterpiece\\n</td>\n",
              "      <td>When I went to this advance screening of A Bea...</td>\n",
              "    </tr>\n",
              "  </tbody>\n",
              "</table>\n",
              "<p>1268 rows × 7 columns</p>\n",
              "</div>\n",
              "      <button class=\"colab-df-convert\" onclick=\"convertToInteractive('df-8f00f59d-da97-49d3-887a-49233d499a0e')\"\n",
              "              title=\"Convert this dataframe to an interactive table.\"\n",
              "              style=\"display:none;\">\n",
              "        \n",
              "  <svg xmlns=\"http://www.w3.org/2000/svg\" height=\"24px\"viewBox=\"0 0 24 24\"\n",
              "       width=\"24px\">\n",
              "    <path d=\"M0 0h24v24H0V0z\" fill=\"none\"/>\n",
              "    <path d=\"M18.56 5.44l.94 2.06.94-2.06 2.06-.94-2.06-.94-.94-2.06-.94 2.06-2.06.94zm-11 1L8.5 8.5l.94-2.06 2.06-.94-2.06-.94L8.5 2.5l-.94 2.06-2.06.94zm10 10l.94 2.06.94-2.06 2.06-.94-2.06-.94-.94-2.06-.94 2.06-2.06.94z\"/><path d=\"M17.41 7.96l-1.37-1.37c-.4-.4-.92-.59-1.43-.59-.52 0-1.04.2-1.43.59L10.3 9.45l-7.72 7.72c-.78.78-.78 2.05 0 2.83L4 21.41c.39.39.9.59 1.41.59.51 0 1.02-.2 1.41-.59l7.78-7.78 2.81-2.81c.8-.78.8-2.07 0-2.86zM5.41 20L4 18.59l7.72-7.72 1.47 1.35L5.41 20z\"/>\n",
              "  </svg>\n",
              "      </button>\n",
              "      \n",
              "  <style>\n",
              "    .colab-df-container {\n",
              "      display:flex;\n",
              "      flex-wrap:wrap;\n",
              "      gap: 12px;\n",
              "    }\n",
              "\n",
              "    .colab-df-convert {\n",
              "      background-color: #E8F0FE;\n",
              "      border: none;\n",
              "      border-radius: 50%;\n",
              "      cursor: pointer;\n",
              "      display: none;\n",
              "      fill: #1967D2;\n",
              "      height: 32px;\n",
              "      padding: 0 0 0 0;\n",
              "      width: 32px;\n",
              "    }\n",
              "\n",
              "    .colab-df-convert:hover {\n",
              "      background-color: #E2EBFA;\n",
              "      box-shadow: 0px 1px 2px rgba(60, 64, 67, 0.3), 0px 1px 3px 1px rgba(60, 64, 67, 0.15);\n",
              "      fill: #174EA6;\n",
              "    }\n",
              "\n",
              "    [theme=dark] .colab-df-convert {\n",
              "      background-color: #3B4455;\n",
              "      fill: #D2E3FC;\n",
              "    }\n",
              "\n",
              "    [theme=dark] .colab-df-convert:hover {\n",
              "      background-color: #434B5C;\n",
              "      box-shadow: 0px 1px 3px 1px rgba(0, 0, 0, 0.15);\n",
              "      filter: drop-shadow(0px 1px 2px rgba(0, 0, 0, 0.3));\n",
              "      fill: #FFFFFF;\n",
              "    }\n",
              "  </style>\n",
              "\n",
              "      <script>\n",
              "        const buttonEl =\n",
              "          document.querySelector('#df-8f00f59d-da97-49d3-887a-49233d499a0e button.colab-df-convert');\n",
              "        buttonEl.style.display =\n",
              "          google.colab.kernel.accessAllowed ? 'block' : 'none';\n",
              "\n",
              "        async function convertToInteractive(key) {\n",
              "          const element = document.querySelector('#df-8f00f59d-da97-49d3-887a-49233d499a0e');\n",
              "          const dataTable =\n",
              "            await google.colab.kernel.invokeFunction('convertToInteractive',\n",
              "                                                     [key], {});\n",
              "          if (!dataTable) return;\n",
              "\n",
              "          const docLinkHtml = 'Like what you see? Visit the ' +\n",
              "            '<a target=\"_blank\" href=https://colab.research.google.com/notebooks/data_table.ipynb>data table notebook</a>'\n",
              "            + ' to learn more about interactive tables.';\n",
              "          element.innerHTML = '';\n",
              "          dataTable['output_type'] = 'display_data';\n",
              "          await google.colab.output.renderOutput(dataTable, element);\n",
              "          const docLink = document.createElement('div');\n",
              "          docLink.innerHTML = docLinkHtml;\n",
              "          element.appendChild(docLink);\n",
              "        }\n",
              "      </script>\n",
              "    </div>\n",
              "  </div>\n",
              "  "
            ]
          },
          "metadata": {},
          "execution_count": 6
        }
      ]
    },
    {
      "cell_type": "code",
      "source": [
        "\n",
        "dataset.drop(['username','rating','helpful','total','date','title'], axis=1,inplace=True)"
      ],
      "metadata": {
        "id": "IK2k3LkuvEog"
      },
      "execution_count": null,
      "outputs": []
    },
    {
      "cell_type": "code",
      "source": [
        "dataset"
      ],
      "metadata": {
        "colab": {
          "base_uri": "https://localhost:8080/",
          "height": 424
        },
        "id": "CW7WFVjWv0J-",
        "outputId": "37ae87d5-538f-492f-c18d-b30b87d7aba2"
      },
      "execution_count": null,
      "outputs": [
        {
          "output_type": "execute_result",
          "data": {
            "text/plain": [
              "                                                 review\n",
              "0     A Beautiful Mind<br/><br/>\\nDirector Ron Howar...\n",
              "1     A BEAUTIFUL MIND (2001) Rating: 10/10<br/><br/...\n",
              "2     I think its a good idea to know as little as p...\n",
              "3     I went along to the movies not really wanting ...\n",
              "4     \"A Beautiful Mind\" is an exceptional story, bu...\n",
              "...                                                 ...\n",
              "1263  I felt this film was a breakthrough for Hollyw...\n",
              "1264  This film has great acting and a riveting stor...\n",
              "1265  MINOR SPOILERS<br/><br/>Being an aspiring scie...\n",
              "1266  Strikingly rich, emotional, and turbulent, thi...\n",
              "1267  When I went to this advance screening of A Bea...\n",
              "\n",
              "[1268 rows x 1 columns]"
            ],
            "text/html": [
              "\n",
              "  <div id=\"df-cfdcd7da-b8cb-4369-b773-0d163bc5a9d0\">\n",
              "    <div class=\"colab-df-container\">\n",
              "      <div>\n",
              "<style scoped>\n",
              "    .dataframe tbody tr th:only-of-type {\n",
              "        vertical-align: middle;\n",
              "    }\n",
              "\n",
              "    .dataframe tbody tr th {\n",
              "        vertical-align: top;\n",
              "    }\n",
              "\n",
              "    .dataframe thead th {\n",
              "        text-align: right;\n",
              "    }\n",
              "</style>\n",
              "<table border=\"1\" class=\"dataframe\">\n",
              "  <thead>\n",
              "    <tr style=\"text-align: right;\">\n",
              "      <th></th>\n",
              "      <th>review</th>\n",
              "    </tr>\n",
              "  </thead>\n",
              "  <tbody>\n",
              "    <tr>\n",
              "      <th>0</th>\n",
              "      <td>A Beautiful Mind&lt;br/&gt;&lt;br/&gt;\\nDirector Ron Howar...</td>\n",
              "    </tr>\n",
              "    <tr>\n",
              "      <th>1</th>\n",
              "      <td>A BEAUTIFUL MIND (2001) Rating: 10/10&lt;br/&gt;&lt;br/...</td>\n",
              "    </tr>\n",
              "    <tr>\n",
              "      <th>2</th>\n",
              "      <td>I think its a good idea to know as little as p...</td>\n",
              "    </tr>\n",
              "    <tr>\n",
              "      <th>3</th>\n",
              "      <td>I went along to the movies not really wanting ...</td>\n",
              "    </tr>\n",
              "    <tr>\n",
              "      <th>4</th>\n",
              "      <td>\"A Beautiful Mind\" is an exceptional story, bu...</td>\n",
              "    </tr>\n",
              "    <tr>\n",
              "      <th>...</th>\n",
              "      <td>...</td>\n",
              "    </tr>\n",
              "    <tr>\n",
              "      <th>1263</th>\n",
              "      <td>I felt this film was a breakthrough for Hollyw...</td>\n",
              "    </tr>\n",
              "    <tr>\n",
              "      <th>1264</th>\n",
              "      <td>This film has great acting and a riveting stor...</td>\n",
              "    </tr>\n",
              "    <tr>\n",
              "      <th>1265</th>\n",
              "      <td>MINOR SPOILERS&lt;br/&gt;&lt;br/&gt;Being an aspiring scie...</td>\n",
              "    </tr>\n",
              "    <tr>\n",
              "      <th>1266</th>\n",
              "      <td>Strikingly rich, emotional, and turbulent, thi...</td>\n",
              "    </tr>\n",
              "    <tr>\n",
              "      <th>1267</th>\n",
              "      <td>When I went to this advance screening of A Bea...</td>\n",
              "    </tr>\n",
              "  </tbody>\n",
              "</table>\n",
              "<p>1268 rows × 1 columns</p>\n",
              "</div>\n",
              "      <button class=\"colab-df-convert\" onclick=\"convertToInteractive('df-cfdcd7da-b8cb-4369-b773-0d163bc5a9d0')\"\n",
              "              title=\"Convert this dataframe to an interactive table.\"\n",
              "              style=\"display:none;\">\n",
              "        \n",
              "  <svg xmlns=\"http://www.w3.org/2000/svg\" height=\"24px\"viewBox=\"0 0 24 24\"\n",
              "       width=\"24px\">\n",
              "    <path d=\"M0 0h24v24H0V0z\" fill=\"none\"/>\n",
              "    <path d=\"M18.56 5.44l.94 2.06.94-2.06 2.06-.94-2.06-.94-.94-2.06-.94 2.06-2.06.94zm-11 1L8.5 8.5l.94-2.06 2.06-.94-2.06-.94L8.5 2.5l-.94 2.06-2.06.94zm10 10l.94 2.06.94-2.06 2.06-.94-2.06-.94-.94-2.06-.94 2.06-2.06.94z\"/><path d=\"M17.41 7.96l-1.37-1.37c-.4-.4-.92-.59-1.43-.59-.52 0-1.04.2-1.43.59L10.3 9.45l-7.72 7.72c-.78.78-.78 2.05 0 2.83L4 21.41c.39.39.9.59 1.41.59.51 0 1.02-.2 1.41-.59l7.78-7.78 2.81-2.81c.8-.78.8-2.07 0-2.86zM5.41 20L4 18.59l7.72-7.72 1.47 1.35L5.41 20z\"/>\n",
              "  </svg>\n",
              "      </button>\n",
              "      \n",
              "  <style>\n",
              "    .colab-df-container {\n",
              "      display:flex;\n",
              "      flex-wrap:wrap;\n",
              "      gap: 12px;\n",
              "    }\n",
              "\n",
              "    .colab-df-convert {\n",
              "      background-color: #E8F0FE;\n",
              "      border: none;\n",
              "      border-radius: 50%;\n",
              "      cursor: pointer;\n",
              "      display: none;\n",
              "      fill: #1967D2;\n",
              "      height: 32px;\n",
              "      padding: 0 0 0 0;\n",
              "      width: 32px;\n",
              "    }\n",
              "\n",
              "    .colab-df-convert:hover {\n",
              "      background-color: #E2EBFA;\n",
              "      box-shadow: 0px 1px 2px rgba(60, 64, 67, 0.3), 0px 1px 3px 1px rgba(60, 64, 67, 0.15);\n",
              "      fill: #174EA6;\n",
              "    }\n",
              "\n",
              "    [theme=dark] .colab-df-convert {\n",
              "      background-color: #3B4455;\n",
              "      fill: #D2E3FC;\n",
              "    }\n",
              "\n",
              "    [theme=dark] .colab-df-convert:hover {\n",
              "      background-color: #434B5C;\n",
              "      box-shadow: 0px 1px 3px 1px rgba(0, 0, 0, 0.15);\n",
              "      filter: drop-shadow(0px 1px 2px rgba(0, 0, 0, 0.3));\n",
              "      fill: #FFFFFF;\n",
              "    }\n",
              "  </style>\n",
              "\n",
              "      <script>\n",
              "        const buttonEl =\n",
              "          document.querySelector('#df-cfdcd7da-b8cb-4369-b773-0d163bc5a9d0 button.colab-df-convert');\n",
              "        buttonEl.style.display =\n",
              "          google.colab.kernel.accessAllowed ? 'block' : 'none';\n",
              "\n",
              "        async function convertToInteractive(key) {\n",
              "          const element = document.querySelector('#df-cfdcd7da-b8cb-4369-b773-0d163bc5a9d0');\n",
              "          const dataTable =\n",
              "            await google.colab.kernel.invokeFunction('convertToInteractive',\n",
              "                                                     [key], {});\n",
              "          if (!dataTable) return;\n",
              "\n",
              "          const docLinkHtml = 'Like what you see? Visit the ' +\n",
              "            '<a target=\"_blank\" href=https://colab.research.google.com/notebooks/data_table.ipynb>data table notebook</a>'\n",
              "            + ' to learn more about interactive tables.';\n",
              "          element.innerHTML = '';\n",
              "          dataTable['output_type'] = 'display_data';\n",
              "          await google.colab.output.renderOutput(dataTable, element);\n",
              "          const docLink = document.createElement('div');\n",
              "          docLink.innerHTML = docLinkHtml;\n",
              "          element.appendChild(docLink);\n",
              "        }\n",
              "      </script>\n",
              "    </div>\n",
              "  </div>\n",
              "  "
            ]
          },
          "metadata": {},
          "execution_count": 8
        }
      ]
    },
    {
      "cell_type": "code",
      "source": [
        "\n",
        "reviewM11 = dataset['review'].str.cat(sep=', ')\n"
      ],
      "metadata": {
        "id": "l-LfhhGHwBJS"
      },
      "execution_count": null,
      "outputs": []
    },
    {
      "cell_type": "code",
      "source": [
        "preprocessed_text = reviewM11.strip().replace('<br/>','')"
      ],
      "metadata": {
        "id": "pCDNtJGxBjMq"
      },
      "execution_count": null,
      "outputs": []
    },
    {
      "cell_type": "code",
      "source": [
        "#print(reviewM11)\n",
        "reviewM11 = preprocessed_text"
      ],
      "metadata": {
        "id": "3afMVNR0Q9P5"
      },
      "execution_count": null,
      "outputs": []
    },
    {
      "cell_type": "code",
      "source": [
        "reviewM11=re.sub(\"[$@&?]\",\"\",reviewM11)\n",
        "print (reviewM11)"
      ],
      "metadata": {
        "id": "pLLX0URop8gP"
      },
      "execution_count": null,
      "outputs": []
    },
    {
      "cell_type": "code",
      "source": [
        "!pip install sentencepiece"
      ],
      "metadata": {
        "colab": {
          "base_uri": "https://localhost:8080/"
        },
        "id": "9ywoXXXGTQqO",
        "outputId": "eb1d4c68-f83f-4b8a-8471-33f55109a52d"
      },
      "execution_count": null,
      "outputs": [
        {
          "output_type": "stream",
          "name": "stdout",
          "text": [
            "Looking in indexes: https://pypi.org/simple, https://us-python.pkg.dev/colab-wheels/public/simple/\n",
            "Requirement already satisfied: sentencepiece in /usr/local/lib/python3.7/dist-packages (0.1.96)\n"
          ]
        }
      ]
    },
    {
      "cell_type": "markdown",
      "source": [
        "### Loading Tokenizers \n",
        "\n",
        "The tokenizer tokenizes each and every word in the text into tokens. Pre-trained transformer Pegasus XSum model has been used as a tokenizer."
      ],
      "metadata": {
        "id": "wHnYYLQsATMa"
      }
    },
    {
      "cell_type": "code",
      "source": [
        "# Load tokenizer \n",
        "tokenizer = PegasusTokenizer.from_pretrained(\"google/pegasus-xsum\")"
      ],
      "metadata": {
        "colab": {
          "base_uri": "https://localhost:8080/",
          "height": 145,
          "referenced_widgets": [
            "046c036f570d4915b479738c791f7a2d",
            "a576db9c8125436980463391f20bcc0d",
            "34fad9b70c1b4f0aabca64f598b6352c",
            "44b2924656af4a6a97b561d024e3c837",
            "31599f6e022248b09480f2c965b6d1cc",
            "52d19436766745599d7884ae510f38b2",
            "b3556bfa05a9427fa0b791f8d02003dd",
            "674d38f485f24c8db8f928537a7100d1",
            "aeed6945f9f14c92aa810c1698a9b3e3",
            "4b2ae2da2dcb48648e162e923186ad57",
            "78f67d17e5b34bd08f748291ac9e2b17",
            "3ab67c83448d4d2a8034ba608ce48efa",
            "100906eb891448ceaac3a254862b1e3d",
            "93179058b68a4230afb7a2ce48de13dc",
            "d47045f8e06241fc89431294c5a35231",
            "3ce0835420d749599124f7be0436095f",
            "91022570837b43c094e5db2638640844",
            "a12928b11103440a9b2c3911817cde7e",
            "b22ee7bb95794edebab3e65c94c4c8cb",
            "b5022a3f182846fdb24de6fc524706fe",
            "49366cb689b24621be1520cc6baef83c",
            "569c2ca535cf4174ad162fcbe515fcc5",
            "be013697ad204304864f30a70f352eb0",
            "16f802f6b09f4452b4e4f7accaa8e681",
            "c12a440c91c145cd81df2ddc62db145f",
            "c630a3b192b147b78eaf43f25b1d5470",
            "be2ad7a7cfb04e7c8069c44c9630fe70",
            "8335389a193c41aaad86739852aa84ed",
            "018b5c99bb634e0bb92f7a9a26ceb438",
            "f2a197989ee647a6b957c8e001816169",
            "ed9369ed061a43f2a4d5b6f8a3287f18",
            "bc6d33f8380c43af8372f5c04c15ec90",
            "0093c03a48fa4c7a83c714317846688f",
            "d7468e47e7684b82841f4e606b029ca2",
            "48ef5c543275410aa245fd15f76edff7",
            "49dc2dc97cb644528f539bf3fc4cd633",
            "3e00e4756351491fa953514634c6bad3",
            "b0f0f785c4b347ae93242e4c85ab703e",
            "35d243511f5046fd82c8ae9808225a8d",
            "fc6ae2828446438991fdd4fbec82a7fd",
            "2fab87e2fe0b43afbef4228bd67db93f",
            "535c03dc54934dc1afa7e5dd3e43bb9d",
            "acf3d670aaab415d85aef5355fe9a29f",
            "a3fbfc1bbca54d318c7396e29ee31a64"
          ]
        },
        "id": "T4KkX-a5wL_o",
        "outputId": "809f4562-5532-4a8f-a846-b20d07ca391c"
      },
      "execution_count": null,
      "outputs": [
        {
          "output_type": "display_data",
          "data": {
            "text/plain": [
              "Downloading spiece.model:   0%|          | 0.00/1.82M [00:00<?, ?B/s]"
            ],
            "application/vnd.jupyter.widget-view+json": {
              "version_major": 2,
              "version_minor": 0,
              "model_id": "046c036f570d4915b479738c791f7a2d"
            }
          },
          "metadata": {}
        },
        {
          "output_type": "display_data",
          "data": {
            "text/plain": [
              "Downloading special_tokens_map.json:   0%|          | 0.00/65.0 [00:00<?, ?B/s]"
            ],
            "application/vnd.jupyter.widget-view+json": {
              "version_major": 2,
              "version_minor": 0,
              "model_id": "3ab67c83448d4d2a8034ba608ce48efa"
            }
          },
          "metadata": {}
        },
        {
          "output_type": "display_data",
          "data": {
            "text/plain": [
              "Downloading tokenizer_config.json:   0%|          | 0.00/87.0 [00:00<?, ?B/s]"
            ],
            "application/vnd.jupyter.widget-view+json": {
              "version_major": 2,
              "version_minor": 0,
              "model_id": "be013697ad204304864f30a70f352eb0"
            }
          },
          "metadata": {}
        },
        {
          "output_type": "display_data",
          "data": {
            "text/plain": [
              "Downloading config.json:   0%|          | 0.00/1.36k [00:00<?, ?B/s]"
            ],
            "application/vnd.jupyter.widget-view+json": {
              "version_major": 2,
              "version_minor": 0,
              "model_id": "d7468e47e7684b82841f4e606b029ca2"
            }
          },
          "metadata": {}
        }
      ]
    },
    {
      "cell_type": "markdown",
      "source": [
        "### Loading Model \n",
        "\n",
        "Similar to the tokenizer Pegasus XSum model has been used to create an abstract summary "
      ],
      "metadata": {
        "id": "PP8wZwkJAYCz"
      }
    },
    {
      "cell_type": "code",
      "source": [
        "# Load model \n",
        "model = PegasusForConditionalGeneration.from_pretrained(\"google/pegasus-xsum\")"
      ],
      "metadata": {
        "colab": {
          "base_uri": "https://localhost:8080/",
          "height": 49,
          "referenced_widgets": [
            "7652f5dcafe5450cabf89f518dcb2580",
            "af7bc10440154be691c755ceeecf5e07",
            "a16e611e16964c5582f1bdec47388f9c",
            "30424d8fbdd84f64963fc77e975e54b5",
            "875b57bc04b742879dd69c7e2763721f",
            "c572345ef21f446593b0d517781c1584",
            "1d726fbe1b5a4a3f9cdba06ce07b37dd",
            "49766e8729f94c74a831e052a5c3b606",
            "2b79f7b9bb2b4cddb94e0a10f73f1e15",
            "c6dc85f02a4640c0ba16e7ece278882f",
            "904881a422724c7989a7cf92e9ffb550"
          ]
        },
        "id": "nOSZOFsjwaTV",
        "outputId": "246994e7-0452-4307-994e-f656c69f4031"
      },
      "execution_count": null,
      "outputs": [
        {
          "output_type": "display_data",
          "data": {
            "text/plain": [
              "Downloading pytorch_model.bin:   0%|          | 0.00/2.12G [00:00<?, ?B/s]"
            ],
            "application/vnd.jupyter.widget-view+json": {
              "version_major": 2,
              "version_minor": 0,
              "model_id": "7652f5dcafe5450cabf89f518dcb2580"
            }
          },
          "metadata": {}
        }
      ]
    },
    {
      "cell_type": "markdown",
      "source": [
        "### Creating tokens for the movie M0 - A Beautiful Mind movie review"
      ],
      "metadata": {
        "id": "RuhGyOYSAe2w"
      }
    },
    {
      "cell_type": "code",
      "source": [
        "# Create tokens - number representation of our text\n",
        "tokens = tokenizer(reviewM11, padding=\"longest\", return_tensors=\"pt\")"
      ],
      "metadata": {
        "id": "MbTX0kWHTlwp"
      },
      "execution_count": null,
      "outputs": []
    },
    {
      "cell_type": "code",
      "source": [
        "print(tokens)"
      ],
      "metadata": {
        "colab": {
          "base_uri": "https://localhost:8080/"
        },
        "id": "4ruMcyRwdkY0",
        "outputId": "c109b0f3-23ef-49ce-f9f2-464e8f7ab58b"
      },
      "execution_count": null,
      "outputs": [
        {
          "output_type": "stream",
          "name": "stdout",
          "text": [
            "{'input_ids': tensor([[  202,  5290,  8450,  1970,  7836,  7720,   148,   306,   115,  1123,\n",
            "           122,   169,  1684,   131,   116, 90484,   107,  4488,   115, 16198,\n",
            "          7487,   173,   109,  9157,   113,   109, 29248,   140, 11899,   143,\n",
            "         13086,   108,   167,   175,   119,  1173,   128,   909,   689,   108,\n",
            "           119,  1606,  2810,   155,   309,  4038,  1453,  1173,   115, 31913,\n",
            "           108,   173,  3948,  3374,   131,   116,  3721,   140,   160,   112,\n",
            "           193,   109,  3236,  2602, 16749,  1141, 19670,   137,   309, 49710,\n",
            "           274,  9127,   122,   109,   229,   113,   183,   107,   143,   996,\n",
            "           119,   235,   108,   178,   131,   267,   394,   923,   270,   568,\n",
            "          1141, 19670,   108,   254,   141,   274,   113,   214,   170,   394,\n",
            "          1148,   139,  7441, 28838,  2945,   333,   203,  2061,   550,   107,\n",
            "           158,   325, 73284, 90484,   117,   146,   114,  1025,   474,   134,\n",
            "           149,   108,   146,   173,   119,   137,   171,   126,   115,   253,\n",
            "           114, 14273,   108,   609, 33115, 25219,   230,   130,   109, 34149,\n",
            "          5290,  8450,  3702,   112,   203,  6866,   107,  6612, 21006,   117,\n",
            "           114, 10045, 69846,   170,   148,   114,  1159, 28692,   134,  6676,\n",
            "          2255,  1596, 45574,  1431,   743,   107,   285,   131,   116, 12311,\n",
            "         33353,   108,  4961,   383,   966,   115,   109,  1324,   108,   155,\n",
            "         41663,   149,   113,   169,   644,   233,   111,  3490,   233,   190,\n",
            "          3599,   156,   856,   641,   108,   142,   641,   120,   138, 12145,\n",
            "           342,   135,   149,   113,   109,   176,  4990, 13494,   307,  9458,\n",
            "          5753,   134, 16267,   502,   107,   955,  1084,   108,   172,   205,\n",
            "           170,   133,   196,  2959,   266,   160,   183,   108,   196,   169,\n",
            "           164,   116,   111,   308,   116,   107,   285,  4111,   111,  4786,\n",
            "           118,   114,   585,   980,   113,   169,  1729, 26257,   143, 29867,\n",
            "         69383,   312,   111,   157,  1449,   114,  1362,   107,   343,  1084,\n",
            "           163, 15735,   135,  6550, 63833,   111,   117,  6878,   122,   114,\n",
            "           515,   113, 28603,   107,   110, 84956,   131,   116,   114,  2658,\n",
            "          1568,   108,  3428,   233,   126,   131,   116,   309,   146,  1069,\n",
            "          5045,   108,   111, 21006,   140,  6878,   122,   126,   115,   109,\n",
            "          1624,   113,   289,  1902,   107,   285, 12557,   166,   115,   114,\n",
            "         19855,  1418, 38009,   108,   130,  3880,  3718,   112,   258,   114,\n",
            "          7464,   107, 51148, 44984,   117,  2068,  1512,   130,   109,  6436,\n",
            "           111,  8419, 21006,   107,  2113,   109, 27274,   649,   198, 51148,\n",
            "         44984,   194,   108,   119,   131,   267,  1501,  1861,   136,   117,\n",
            "           109, 52748,   415,  2593,   135, 48798,   107,   125,  1021,   244,\n",
            "           149,   108,   178,   131,   116,  1123,   181, 52536,  9732, 20742,\n",
            "           147,   343, 44984,  1127, 22054,   115,   109,   868,   108,   111,\n",
            "           178,   131,   116,  9922,   107, 38325,  4017,   118,  3668,   172,\n",
            "           136,   156,   108,   262,   126,  1106,   183,   114,  1012,   112,\n",
            "           403,   299,   153,  4216, 23369,   107,   321,   223,  5858,   108,\n",
            "           136,   117,   109, 13707,   113,  1323,   108,   262,   237,   157,\n",
            "           131,   216,  4200,   130,  2111,   109,   116, 51216,   116,   107,\n",
            "           343,   146,   118, 44984,   206,   175,   742,   108,   136, 11358,\n",
            "           559,   111,   118,   149,   120,   178,   131,   116,   114,  4168,\n",
            "          2080,   113,  4216,   107,   125,  2562,   120,  2047,   172, 51499,\n",
            "           118,   342,   108,   155,   125,   311,   120,   173,  5858,   127,\n",
            "         11559,   130,   114,   198, 85492,   194,   233,   153,   766,   130,\n",
            "          5858,  1675,   131,   144,   684,   130,   221,  4844,   107, 10532,\n",
            "           108,   383, 20944,   234,   947,   464,  3227, 13164, 18618,   108,\n",
            "           111,   112,   114,  1393,   126,   148,   947,   464, 44984,   130,\n",
            "           210,     1]]), 'attention_mask': tensor([[1, 1, 1, 1, 1, 1, 1, 1, 1, 1, 1, 1, 1, 1, 1, 1, 1, 1, 1, 1, 1, 1, 1, 1,\n",
            "         1, 1, 1, 1, 1, 1, 1, 1, 1, 1, 1, 1, 1, 1, 1, 1, 1, 1, 1, 1, 1, 1, 1, 1,\n",
            "         1, 1, 1, 1, 1, 1, 1, 1, 1, 1, 1, 1, 1, 1, 1, 1, 1, 1, 1, 1, 1, 1, 1, 1,\n",
            "         1, 1, 1, 1, 1, 1, 1, 1, 1, 1, 1, 1, 1, 1, 1, 1, 1, 1, 1, 1, 1, 1, 1, 1,\n",
            "         1, 1, 1, 1, 1, 1, 1, 1, 1, 1, 1, 1, 1, 1, 1, 1, 1, 1, 1, 1, 1, 1, 1, 1,\n",
            "         1, 1, 1, 1, 1, 1, 1, 1, 1, 1, 1, 1, 1, 1, 1, 1, 1, 1, 1, 1, 1, 1, 1, 1,\n",
            "         1, 1, 1, 1, 1, 1, 1, 1, 1, 1, 1, 1, 1, 1, 1, 1, 1, 1, 1, 1, 1, 1, 1, 1,\n",
            "         1, 1, 1, 1, 1, 1, 1, 1, 1, 1, 1, 1, 1, 1, 1, 1, 1, 1, 1, 1, 1, 1, 1, 1,\n",
            "         1, 1, 1, 1, 1, 1, 1, 1, 1, 1, 1, 1, 1, 1, 1, 1, 1, 1, 1, 1, 1, 1, 1, 1,\n",
            "         1, 1, 1, 1, 1, 1, 1, 1, 1, 1, 1, 1, 1, 1, 1, 1, 1, 1, 1, 1, 1, 1, 1, 1,\n",
            "         1, 1, 1, 1, 1, 1, 1, 1, 1, 1, 1, 1, 1, 1, 1, 1, 1, 1, 1, 1, 1, 1, 1, 1,\n",
            "         1, 1, 1, 1, 1, 1, 1, 1, 1, 1, 1, 1, 1, 1, 1, 1, 1, 1, 1, 1, 1, 1, 1, 1,\n",
            "         1, 1, 1, 1, 1, 1, 1, 1, 1, 1, 1, 1, 1, 1, 1, 1, 1, 1, 1, 1, 1, 1, 1, 1,\n",
            "         1, 1, 1, 1, 1, 1, 1, 1, 1, 1, 1, 1, 1, 1, 1, 1, 1, 1, 1, 1, 1, 1, 1, 1,\n",
            "         1, 1, 1, 1, 1, 1, 1, 1, 1, 1, 1, 1, 1, 1, 1, 1, 1, 1, 1, 1, 1, 1, 1, 1,\n",
            "         1, 1, 1, 1, 1, 1, 1, 1, 1, 1, 1, 1, 1, 1, 1, 1, 1, 1, 1, 1, 1, 1, 1, 1,\n",
            "         1, 1, 1, 1, 1, 1, 1, 1, 1, 1, 1, 1, 1, 1, 1, 1, 1, 1, 1, 1, 1, 1, 1, 1,\n",
            "         1, 1, 1, 1, 1, 1, 1, 1, 1, 1, 1, 1, 1, 1, 1, 1, 1, 1, 1, 1, 1, 1, 1, 1,\n",
            "         1, 1, 1, 1, 1, 1, 1, 1, 1, 1, 1, 1, 1, 1, 1, 1, 1, 1, 1, 1, 1, 1, 1, 1,\n",
            "         1, 1, 1, 1, 1, 1, 1, 1, 1, 1, 1, 1, 1, 1, 1, 1, 1, 1, 1, 1, 1, 1, 1, 1,\n",
            "         1, 1, 1, 1, 1, 1, 1, 1, 1, 1, 1, 1, 1, 1, 1, 1, 1, 1, 1, 1, 1, 1, 1, 1,\n",
            "         1, 1, 1, 1, 1, 1, 1, 1]])}\n"
          ]
        }
      ]
    },
    {
      "cell_type": "code",
      "source": [
        "# Summarize \n",
        "summary = model.generate(**tokens)"
      ],
      "metadata": {
        "colab": {
          "base_uri": "https://localhost:8080/"
        },
        "id": "G2b-Ti9vduNY",
        "outputId": "ccf4f354-60ce-4eed-9637-eecaa0527e56"
      },
      "execution_count": null,
      "outputs": [
        {
          "output_type": "stream",
          "name": "stderr",
          "text": [
            "/usr/local/lib/python3.7/dist-packages/transformers/generation_utils.py:1207: UserWarning: Neither `max_length` nor `max_new_tokens` have been set, `max_length` will default to 64 (`self.config.max_length`). Controlling `max_length` via the config is deprecated and `max_length` will be removed from the config in v5 of Transformers -- we recommend using `max_new_tokens` to control the maximum length of the generation.\n",
            "  UserWarning,\n"
          ]
        }
      ]
    },
    {
      "cell_type": "code",
      "source": [
        "# Output summary tokens\n",
        "summary[0]"
      ],
      "metadata": {
        "colab": {
          "base_uri": "https://localhost:8080/"
        },
        "id": "3GWaqRQLeFOG",
        "outputId": "393cf88c-f54d-4fd8-9f2f-9427d64f23de"
      },
      "execution_count": null,
      "outputs": [
        {
          "output_type": "execute_result",
          "data": {
            "text/plain": [
              "tensor([    0,  8709, 44984,   111,  8019, 69383,   115,   114,  2166,   135,\n",
              "          202,  5290,  8450,   107,     1])"
            ]
          },
          "metadata": {},
          "execution_count": 20
        }
      ]
    },
    {
      "cell_type": "code",
      "source": [
        "# Decode summary\n",
        "tokenizer.decode(summary[0],skip_special_tokens=True)"
      ],
      "metadata": {
        "colab": {
          "base_uri": "https://localhost:8080/",
          "height": 35
        },
        "id": "y8_hZ04nd1OF",
        "outputId": "999eda26-d437-4371-b013-26539df7b824"
      },
      "execution_count": null,
      "outputs": [
        {
          "output_type": "execute_result",
          "data": {
            "text/plain": [
              "'Russell Crowe and Jennifer Connelly in a scene from A Beautiful Mind.'"
            ],
            "application/vnd.google.colaboratory.intrinsic+json": {
              "type": "string"
            }
          },
          "metadata": {},
          "execution_count": 21
        }
      ]
    },
    {
      "cell_type": "markdown",
      "source": [
        "Made changes in the hyperparameters max_length (Maximum length of the one line summary) and min_length (Minimum words to be present in a one line summary) to create a summary of 50 words "
      ],
      "metadata": {
        "id": "TUBGP80rmjHu"
      }
    },
    {
      "cell_type": "code",
      "source": [
        "summz = model.generate(**tokens, max_length= 150, min_length=20)"
      ],
      "metadata": {
        "id": "bZDwNBbkeS4L"
      },
      "execution_count": null,
      "outputs": []
    },
    {
      "cell_type": "code",
      "source": [
        "summz[0]"
      ],
      "metadata": {
        "colab": {
          "base_uri": "https://localhost:8080/"
        },
        "id": "bIt8zgM5jxSO",
        "outputId": "3fd91a8d-b3c7-4e17-ac62-dd8bbceac97f"
      },
      "execution_count": null,
      "outputs": [
        {
          "output_type": "execute_result",
          "data": {
            "text/plain": [
              "tensor([    0,  8709, 44984,   111,  8019, 69383,  2187,   115,   202,  5290,\n",
              "         8450,   108,   162,  3387,   109,   921,   584,   113, 50068,  1084,\n",
              "        21006,   108,   170,   140,  6878,   122, 28603,   107,     1])"
            ]
          },
          "metadata": {},
          "execution_count": 64
        }
      ]
    },
    {
      "cell_type": "code",
      "source": [
        "review0 = tokenizer.decode(summz[0], skip_special_tokens=True)"
      ],
      "metadata": {
        "id": "G7vygZs7kA3v"
      },
      "execution_count": null,
      "outputs": []
    },
    {
      "cell_type": "code",
      "source": [
        "review0"
      ],
      "metadata": {
        "colab": {
          "base_uri": "https://localhost:8080/",
          "height": 35
        },
        "id": "EX0Wm8k5Hg76",
        "outputId": "cbb58585-c062-4da8-f955-17ce5fd9163a"
      },
      "execution_count": null,
      "outputs": [
        {
          "output_type": "execute_result",
          "data": {
            "text/plain": [
              "'Russell Crowe and Jennifer Connelly star in A Beautiful Mind, which tells the true story of mathematician John Nash, who was diagnosed with schizophrenia.'"
            ],
            "application/vnd.google.colaboratory.intrinsic+json": {
              "type": "string"
            }
          },
          "metadata": {},
          "execution_count": 66
        }
      ]
    },
    {
      "cell_type": "markdown",
      "source": [
        "Considering 10 more movies as a history of the user :\n",
        "the history contains (H1) ={ M1,M2,M3... M10} where M11 is A Beautiful Mind Movie\n",
        "\n",
        "Comparing the movies in the History H1 and movie M11 review to give a customized review of the movie M11 (A Beautiful Mind) here. "
      ],
      "metadata": {
        "id": "8Du9CpLU2qta"
      }
    },
    {
      "cell_type": "markdown",
      "source": [
        "- M1 : The dark knight rises (Action)\n",
        "- M2: Avengers - Endgame (Adventure)\n",
        "- M3: Inside Out (Animation) \n",
        "- M4: The wolf of the wallstreet (biography)\n",
        "- M5: The mask (Comedy)\n",
        "- M6: Ocean's Eleven (Crime)\n",
        "- M7: Titanic (Drama)\n",
        "- M8: Beauty and the beast (Fantasy) \n",
        "- M9: Macbeth (History)\n",
        "- M10: It (Horror)\n",
        "\n",
        "the customized review comparing all the above movies and M11 (A Beautiful Mind ) \n",
        "\n",
        "A similar method proposed above has been used to create summaries of the reviews of the above mentioned 10 movies of different genres. \n",
        "\n",
        "### Movie1 - summary of the review"
      ],
      "metadata": {
        "id": "KSM9bgUc5-Ax"
      }
    },
    {
      "cell_type": "code",
      "source": [
        "#M1 - movie 1 \n",
        "\n",
        "review_Movie_1 = pd.read_csv(\"/content/drive/MyDrive/IAS/text summarization/Movies reviews/The Dark Knight Rises 2012.csv\")"
      ],
      "metadata": {
        "id": "945bfOaukFJX"
      },
      "execution_count": null,
      "outputs": []
    },
    {
      "cell_type": "code",
      "source": [
        "review_Movie_1"
      ],
      "metadata": {
        "colab": {
          "base_uri": "https://localhost:8080/",
          "height": 424
        },
        "id": "yJHTPG4ZAxly",
        "outputId": "a2de1b6a-81fa-4cb9-ff6b-311b0dbcccf7"
      },
      "execution_count": null,
      "outputs": [
        {
          "output_type": "execute_result",
          "data": {
            "text/plain": [
              "            username rating  helpful  total              date  \\\n",
              "0       MR_Heraclius     10       54     57  12 February 2020   \n",
              "1        Geeky Randy     10      141    172    1 January 2013   \n",
              "2         darkslash7     10       58     69      20 July 2012   \n",
              "3         CaptKeshav      9       91    113       2 June 2013   \n",
              "4     bowwowwowyippy      9       14     15  13 November 2019   \n",
              "...              ...    ...      ...    ...               ...   \n",
              "2948       kastri_gr     10        0      3  18 November 2012   \n",
              "2949        kumar_50      8        0      4   30 October 2012   \n",
              "2950      phd_travel      7        0      6   28 October 2012   \n",
              "2951  sunnysurfer101      8        0      3   24 October 2012   \n",
              "2952      bevinchu-1      8        0      4   10 October 2012   \n",
              "\n",
              "                                                  title  \\\n",
              "0                                              Batman\\n   \n",
              "1      A wonderful conclusion to a wonderful trilogy.\\n   \n",
              "2               No one wraps up a trilogy like Nolan.\\n   \n",
              "3                                                Epic\\n   \n",
              "4                                          Astounding\\n   \n",
              "...                                                 ...   \n",
              "2948                         Amazing but not quite so\\n   \n",
              "2949   Amazing Movie first time around...Not so much...   \n",
              "2950     A bit confusing but quite grand and sweeping\\n   \n",
              "2951   I love it, but it's not as good as everyone s...   \n",
              "2952   Nolan/Bale Batman franchise -- what Batman sh...   \n",
              "\n",
              "                                                 review  \n",
              "0     Christopher Nolan's epic trilogy concludes in ...  \n",
              "1     After eight years in seclusion, Batman resurfa...  \n",
              "2     Wow. That's all I can say. I was freaked out a...  \n",
              "3     The Dark Knight Rises was a perfect sequel to ...  \n",
              "4     Bane is a more terrifying nemesis than the Jok...  \n",
              "...                                                 ...  \n",
              "2948  The Dark Knight Rises film i am sure it would ...  \n",
              "2949  The 1st time i saw the movie i was so overwhel...  \n",
              "2950  There are some good points and some weaker poi...  \n",
              "2951  Okay, For starters, I LOVE THIS FILM. I REALLY...  \n",
              "2952  The Chris Nolan/Christian Bale Batman trilogy ...  \n",
              "\n",
              "[2953 rows x 7 columns]"
            ],
            "text/html": [
              "\n",
              "  <div id=\"df-919da8d1-06c4-49c1-aa8c-0fb9997fc1d8\">\n",
              "    <div class=\"colab-df-container\">\n",
              "      <div>\n",
              "<style scoped>\n",
              "    .dataframe tbody tr th:only-of-type {\n",
              "        vertical-align: middle;\n",
              "    }\n",
              "\n",
              "    .dataframe tbody tr th {\n",
              "        vertical-align: top;\n",
              "    }\n",
              "\n",
              "    .dataframe thead th {\n",
              "        text-align: right;\n",
              "    }\n",
              "</style>\n",
              "<table border=\"1\" class=\"dataframe\">\n",
              "  <thead>\n",
              "    <tr style=\"text-align: right;\">\n",
              "      <th></th>\n",
              "      <th>username</th>\n",
              "      <th>rating</th>\n",
              "      <th>helpful</th>\n",
              "      <th>total</th>\n",
              "      <th>date</th>\n",
              "      <th>title</th>\n",
              "      <th>review</th>\n",
              "    </tr>\n",
              "  </thead>\n",
              "  <tbody>\n",
              "    <tr>\n",
              "      <th>0</th>\n",
              "      <td>MR_Heraclius</td>\n",
              "      <td>10</td>\n",
              "      <td>54</td>\n",
              "      <td>57</td>\n",
              "      <td>12 February 2020</td>\n",
              "      <td>Batman\\n</td>\n",
              "      <td>Christopher Nolan's epic trilogy concludes in ...</td>\n",
              "    </tr>\n",
              "    <tr>\n",
              "      <th>1</th>\n",
              "      <td>Geeky Randy</td>\n",
              "      <td>10</td>\n",
              "      <td>141</td>\n",
              "      <td>172</td>\n",
              "      <td>1 January 2013</td>\n",
              "      <td>A wonderful conclusion to a wonderful trilogy.\\n</td>\n",
              "      <td>After eight years in seclusion, Batman resurfa...</td>\n",
              "    </tr>\n",
              "    <tr>\n",
              "      <th>2</th>\n",
              "      <td>darkslash7</td>\n",
              "      <td>10</td>\n",
              "      <td>58</td>\n",
              "      <td>69</td>\n",
              "      <td>20 July 2012</td>\n",
              "      <td>No one wraps up a trilogy like Nolan.\\n</td>\n",
              "      <td>Wow. That's all I can say. I was freaked out a...</td>\n",
              "    </tr>\n",
              "    <tr>\n",
              "      <th>3</th>\n",
              "      <td>CaptKeshav</td>\n",
              "      <td>9</td>\n",
              "      <td>91</td>\n",
              "      <td>113</td>\n",
              "      <td>2 June 2013</td>\n",
              "      <td>Epic\\n</td>\n",
              "      <td>The Dark Knight Rises was a perfect sequel to ...</td>\n",
              "    </tr>\n",
              "    <tr>\n",
              "      <th>4</th>\n",
              "      <td>bowwowwowyippy</td>\n",
              "      <td>9</td>\n",
              "      <td>14</td>\n",
              "      <td>15</td>\n",
              "      <td>13 November 2019</td>\n",
              "      <td>Astounding\\n</td>\n",
              "      <td>Bane is a more terrifying nemesis than the Jok...</td>\n",
              "    </tr>\n",
              "    <tr>\n",
              "      <th>...</th>\n",
              "      <td>...</td>\n",
              "      <td>...</td>\n",
              "      <td>...</td>\n",
              "      <td>...</td>\n",
              "      <td>...</td>\n",
              "      <td>...</td>\n",
              "      <td>...</td>\n",
              "    </tr>\n",
              "    <tr>\n",
              "      <th>2948</th>\n",
              "      <td>kastri_gr</td>\n",
              "      <td>10</td>\n",
              "      <td>0</td>\n",
              "      <td>3</td>\n",
              "      <td>18 November 2012</td>\n",
              "      <td>Amazing but not quite so\\n</td>\n",
              "      <td>The Dark Knight Rises film i am sure it would ...</td>\n",
              "    </tr>\n",
              "    <tr>\n",
              "      <th>2949</th>\n",
              "      <td>kumar_50</td>\n",
              "      <td>8</td>\n",
              "      <td>0</td>\n",
              "      <td>4</td>\n",
              "      <td>30 October 2012</td>\n",
              "      <td>Amazing Movie first time around...Not so much...</td>\n",
              "      <td>The 1st time i saw the movie i was so overwhel...</td>\n",
              "    </tr>\n",
              "    <tr>\n",
              "      <th>2950</th>\n",
              "      <td>phd_travel</td>\n",
              "      <td>7</td>\n",
              "      <td>0</td>\n",
              "      <td>6</td>\n",
              "      <td>28 October 2012</td>\n",
              "      <td>A bit confusing but quite grand and sweeping\\n</td>\n",
              "      <td>There are some good points and some weaker poi...</td>\n",
              "    </tr>\n",
              "    <tr>\n",
              "      <th>2951</th>\n",
              "      <td>sunnysurfer101</td>\n",
              "      <td>8</td>\n",
              "      <td>0</td>\n",
              "      <td>3</td>\n",
              "      <td>24 October 2012</td>\n",
              "      <td>I love it, but it's not as good as everyone s...</td>\n",
              "      <td>Okay, For starters, I LOVE THIS FILM. I REALLY...</td>\n",
              "    </tr>\n",
              "    <tr>\n",
              "      <th>2952</th>\n",
              "      <td>bevinchu-1</td>\n",
              "      <td>8</td>\n",
              "      <td>0</td>\n",
              "      <td>4</td>\n",
              "      <td>10 October 2012</td>\n",
              "      <td>Nolan/Bale Batman franchise -- what Batman sh...</td>\n",
              "      <td>The Chris Nolan/Christian Bale Batman trilogy ...</td>\n",
              "    </tr>\n",
              "  </tbody>\n",
              "</table>\n",
              "<p>2953 rows × 7 columns</p>\n",
              "</div>\n",
              "      <button class=\"colab-df-convert\" onclick=\"convertToInteractive('df-919da8d1-06c4-49c1-aa8c-0fb9997fc1d8')\"\n",
              "              title=\"Convert this dataframe to an interactive table.\"\n",
              "              style=\"display:none;\">\n",
              "        \n",
              "  <svg xmlns=\"http://www.w3.org/2000/svg\" height=\"24px\"viewBox=\"0 0 24 24\"\n",
              "       width=\"24px\">\n",
              "    <path d=\"M0 0h24v24H0V0z\" fill=\"none\"/>\n",
              "    <path d=\"M18.56 5.44l.94 2.06.94-2.06 2.06-.94-2.06-.94-.94-2.06-.94 2.06-2.06.94zm-11 1L8.5 8.5l.94-2.06 2.06-.94-2.06-.94L8.5 2.5l-.94 2.06-2.06.94zm10 10l.94 2.06.94-2.06 2.06-.94-2.06-.94-.94-2.06-.94 2.06-2.06.94z\"/><path d=\"M17.41 7.96l-1.37-1.37c-.4-.4-.92-.59-1.43-.59-.52 0-1.04.2-1.43.59L10.3 9.45l-7.72 7.72c-.78.78-.78 2.05 0 2.83L4 21.41c.39.39.9.59 1.41.59.51 0 1.02-.2 1.41-.59l7.78-7.78 2.81-2.81c.8-.78.8-2.07 0-2.86zM5.41 20L4 18.59l7.72-7.72 1.47 1.35L5.41 20z\"/>\n",
              "  </svg>\n",
              "      </button>\n",
              "      \n",
              "  <style>\n",
              "    .colab-df-container {\n",
              "      display:flex;\n",
              "      flex-wrap:wrap;\n",
              "      gap: 12px;\n",
              "    }\n",
              "\n",
              "    .colab-df-convert {\n",
              "      background-color: #E8F0FE;\n",
              "      border: none;\n",
              "      border-radius: 50%;\n",
              "      cursor: pointer;\n",
              "      display: none;\n",
              "      fill: #1967D2;\n",
              "      height: 32px;\n",
              "      padding: 0 0 0 0;\n",
              "      width: 32px;\n",
              "    }\n",
              "\n",
              "    .colab-df-convert:hover {\n",
              "      background-color: #E2EBFA;\n",
              "      box-shadow: 0px 1px 2px rgba(60, 64, 67, 0.3), 0px 1px 3px 1px rgba(60, 64, 67, 0.15);\n",
              "      fill: #174EA6;\n",
              "    }\n",
              "\n",
              "    [theme=dark] .colab-df-convert {\n",
              "      background-color: #3B4455;\n",
              "      fill: #D2E3FC;\n",
              "    }\n",
              "\n",
              "    [theme=dark] .colab-df-convert:hover {\n",
              "      background-color: #434B5C;\n",
              "      box-shadow: 0px 1px 3px 1px rgba(0, 0, 0, 0.15);\n",
              "      filter: drop-shadow(0px 1px 2px rgba(0, 0, 0, 0.3));\n",
              "      fill: #FFFFFF;\n",
              "    }\n",
              "  </style>\n",
              "\n",
              "      <script>\n",
              "        const buttonEl =\n",
              "          document.querySelector('#df-919da8d1-06c4-49c1-aa8c-0fb9997fc1d8 button.colab-df-convert');\n",
              "        buttonEl.style.display =\n",
              "          google.colab.kernel.accessAllowed ? 'block' : 'none';\n",
              "\n",
              "        async function convertToInteractive(key) {\n",
              "          const element = document.querySelector('#df-919da8d1-06c4-49c1-aa8c-0fb9997fc1d8');\n",
              "          const dataTable =\n",
              "            await google.colab.kernel.invokeFunction('convertToInteractive',\n",
              "                                                     [key], {});\n",
              "          if (!dataTable) return;\n",
              "\n",
              "          const docLinkHtml = 'Like what you see? Visit the ' +\n",
              "            '<a target=\"_blank\" href=https://colab.research.google.com/notebooks/data_table.ipynb>data table notebook</a>'\n",
              "            + ' to learn more about interactive tables.';\n",
              "          element.innerHTML = '';\n",
              "          dataTable['output_type'] = 'display_data';\n",
              "          await google.colab.output.renderOutput(dataTable, element);\n",
              "          const docLink = document.createElement('div');\n",
              "          docLink.innerHTML = docLinkHtml;\n",
              "          element.appendChild(docLink);\n",
              "        }\n",
              "      </script>\n",
              "    </div>\n",
              "  </div>\n",
              "  "
            ]
          },
          "metadata": {},
          "execution_count": 27
        }
      ]
    },
    {
      "cell_type": "code",
      "source": [
        "review_Movie_1.drop(['username','rating','helpful','total','date','title'], axis=1,inplace=True)"
      ],
      "metadata": {
        "id": "cRtNSBwGA9m4"
      },
      "execution_count": null,
      "outputs": []
    },
    {
      "cell_type": "code",
      "source": [
        "review_Movie_1\n"
      ],
      "metadata": {
        "colab": {
          "base_uri": "https://localhost:8080/",
          "height": 424
        },
        "id": "xVMBtreoBIGf",
        "outputId": "26897bb6-297e-4b11-84d9-625e3eb33367"
      },
      "execution_count": null,
      "outputs": [
        {
          "output_type": "execute_result",
          "data": {
            "text/plain": [
              "                                                 review\n",
              "0     Christopher Nolan's epic trilogy concludes in ...\n",
              "1     After eight years in seclusion, Batman resurfa...\n",
              "2     Wow. That's all I can say. I was freaked out a...\n",
              "3     The Dark Knight Rises was a perfect sequel to ...\n",
              "4     Bane is a more terrifying nemesis than the Jok...\n",
              "...                                                 ...\n",
              "2948  The Dark Knight Rises film i am sure it would ...\n",
              "2949  The 1st time i saw the movie i was so overwhel...\n",
              "2950  There are some good points and some weaker poi...\n",
              "2951  Okay, For starters, I LOVE THIS FILM. I REALLY...\n",
              "2952  The Chris Nolan/Christian Bale Batman trilogy ...\n",
              "\n",
              "[2953 rows x 1 columns]"
            ],
            "text/html": [
              "\n",
              "  <div id=\"df-cf862780-9be4-45f2-a4d9-324d339ece57\">\n",
              "    <div class=\"colab-df-container\">\n",
              "      <div>\n",
              "<style scoped>\n",
              "    .dataframe tbody tr th:only-of-type {\n",
              "        vertical-align: middle;\n",
              "    }\n",
              "\n",
              "    .dataframe tbody tr th {\n",
              "        vertical-align: top;\n",
              "    }\n",
              "\n",
              "    .dataframe thead th {\n",
              "        text-align: right;\n",
              "    }\n",
              "</style>\n",
              "<table border=\"1\" class=\"dataframe\">\n",
              "  <thead>\n",
              "    <tr style=\"text-align: right;\">\n",
              "      <th></th>\n",
              "      <th>review</th>\n",
              "    </tr>\n",
              "  </thead>\n",
              "  <tbody>\n",
              "    <tr>\n",
              "      <th>0</th>\n",
              "      <td>Christopher Nolan's epic trilogy concludes in ...</td>\n",
              "    </tr>\n",
              "    <tr>\n",
              "      <th>1</th>\n",
              "      <td>After eight years in seclusion, Batman resurfa...</td>\n",
              "    </tr>\n",
              "    <tr>\n",
              "      <th>2</th>\n",
              "      <td>Wow. That's all I can say. I was freaked out a...</td>\n",
              "    </tr>\n",
              "    <tr>\n",
              "      <th>3</th>\n",
              "      <td>The Dark Knight Rises was a perfect sequel to ...</td>\n",
              "    </tr>\n",
              "    <tr>\n",
              "      <th>4</th>\n",
              "      <td>Bane is a more terrifying nemesis than the Jok...</td>\n",
              "    </tr>\n",
              "    <tr>\n",
              "      <th>...</th>\n",
              "      <td>...</td>\n",
              "    </tr>\n",
              "    <tr>\n",
              "      <th>2948</th>\n",
              "      <td>The Dark Knight Rises film i am sure it would ...</td>\n",
              "    </tr>\n",
              "    <tr>\n",
              "      <th>2949</th>\n",
              "      <td>The 1st time i saw the movie i was so overwhel...</td>\n",
              "    </tr>\n",
              "    <tr>\n",
              "      <th>2950</th>\n",
              "      <td>There are some good points and some weaker poi...</td>\n",
              "    </tr>\n",
              "    <tr>\n",
              "      <th>2951</th>\n",
              "      <td>Okay, For starters, I LOVE THIS FILM. I REALLY...</td>\n",
              "    </tr>\n",
              "    <tr>\n",
              "      <th>2952</th>\n",
              "      <td>The Chris Nolan/Christian Bale Batman trilogy ...</td>\n",
              "    </tr>\n",
              "  </tbody>\n",
              "</table>\n",
              "<p>2953 rows × 1 columns</p>\n",
              "</div>\n",
              "      <button class=\"colab-df-convert\" onclick=\"convertToInteractive('df-cf862780-9be4-45f2-a4d9-324d339ece57')\"\n",
              "              title=\"Convert this dataframe to an interactive table.\"\n",
              "              style=\"display:none;\">\n",
              "        \n",
              "  <svg xmlns=\"http://www.w3.org/2000/svg\" height=\"24px\"viewBox=\"0 0 24 24\"\n",
              "       width=\"24px\">\n",
              "    <path d=\"M0 0h24v24H0V0z\" fill=\"none\"/>\n",
              "    <path d=\"M18.56 5.44l.94 2.06.94-2.06 2.06-.94-2.06-.94-.94-2.06-.94 2.06-2.06.94zm-11 1L8.5 8.5l.94-2.06 2.06-.94-2.06-.94L8.5 2.5l-.94 2.06-2.06.94zm10 10l.94 2.06.94-2.06 2.06-.94-2.06-.94-.94-2.06-.94 2.06-2.06.94z\"/><path d=\"M17.41 7.96l-1.37-1.37c-.4-.4-.92-.59-1.43-.59-.52 0-1.04.2-1.43.59L10.3 9.45l-7.72 7.72c-.78.78-.78 2.05 0 2.83L4 21.41c.39.39.9.59 1.41.59.51 0 1.02-.2 1.41-.59l7.78-7.78 2.81-2.81c.8-.78.8-2.07 0-2.86zM5.41 20L4 18.59l7.72-7.72 1.47 1.35L5.41 20z\"/>\n",
              "  </svg>\n",
              "      </button>\n",
              "      \n",
              "  <style>\n",
              "    .colab-df-container {\n",
              "      display:flex;\n",
              "      flex-wrap:wrap;\n",
              "      gap: 12px;\n",
              "    }\n",
              "\n",
              "    .colab-df-convert {\n",
              "      background-color: #E8F0FE;\n",
              "      border: none;\n",
              "      border-radius: 50%;\n",
              "      cursor: pointer;\n",
              "      display: none;\n",
              "      fill: #1967D2;\n",
              "      height: 32px;\n",
              "      padding: 0 0 0 0;\n",
              "      width: 32px;\n",
              "    }\n",
              "\n",
              "    .colab-df-convert:hover {\n",
              "      background-color: #E2EBFA;\n",
              "      box-shadow: 0px 1px 2px rgba(60, 64, 67, 0.3), 0px 1px 3px 1px rgba(60, 64, 67, 0.15);\n",
              "      fill: #174EA6;\n",
              "    }\n",
              "\n",
              "    [theme=dark] .colab-df-convert {\n",
              "      background-color: #3B4455;\n",
              "      fill: #D2E3FC;\n",
              "    }\n",
              "\n",
              "    [theme=dark] .colab-df-convert:hover {\n",
              "      background-color: #434B5C;\n",
              "      box-shadow: 0px 1px 3px 1px rgba(0, 0, 0, 0.15);\n",
              "      filter: drop-shadow(0px 1px 2px rgba(0, 0, 0, 0.3));\n",
              "      fill: #FFFFFF;\n",
              "    }\n",
              "  </style>\n",
              "\n",
              "      <script>\n",
              "        const buttonEl =\n",
              "          document.querySelector('#df-cf862780-9be4-45f2-a4d9-324d339ece57 button.colab-df-convert');\n",
              "        buttonEl.style.display =\n",
              "          google.colab.kernel.accessAllowed ? 'block' : 'none';\n",
              "\n",
              "        async function convertToInteractive(key) {\n",
              "          const element = document.querySelector('#df-cf862780-9be4-45f2-a4d9-324d339ece57');\n",
              "          const dataTable =\n",
              "            await google.colab.kernel.invokeFunction('convertToInteractive',\n",
              "                                                     [key], {});\n",
              "          if (!dataTable) return;\n",
              "\n",
              "          const docLinkHtml = 'Like what you see? Visit the ' +\n",
              "            '<a target=\"_blank\" href=https://colab.research.google.com/notebooks/data_table.ipynb>data table notebook</a>'\n",
              "            + ' to learn more about interactive tables.';\n",
              "          element.innerHTML = '';\n",
              "          dataTable['output_type'] = 'display_data';\n",
              "          await google.colab.output.renderOutput(dataTable, element);\n",
              "          const docLink = document.createElement('div');\n",
              "          docLink.innerHTML = docLinkHtml;\n",
              "          element.appendChild(docLink);\n",
              "        }\n",
              "      </script>\n",
              "    </div>\n",
              "  </div>\n",
              "  "
            ]
          },
          "metadata": {},
          "execution_count": 29
        }
      ]
    },
    {
      "cell_type": "code",
      "source": [
        "reviewM1 = review_Movie_1['review'].str.cat(sep=', ')\n",
        "reviewM1 = reviewM1.strip().replace('<br/>','')"
      ],
      "metadata": {
        "id": "hsGNdIWPBNgi"
      },
      "execution_count": null,
      "outputs": []
    },
    {
      "cell_type": "code",
      "source": [
        "#reviewM1\n",
        "#re.Replace(reviewM1, @\"[^0-9a-zA-Z:,]+\", \"\")  \n",
        "reviewM1=re.sub(\"[$@&?]\",\"\",reviewM1)\n",
        "#print (reviewM1)"
      ],
      "metadata": {
        "id": "fQopFUSwBfMT"
      },
      "execution_count": null,
      "outputs": []
    },
    {
      "cell_type": "code",
      "source": [
        "#tokenizer1 = PegasusTokenizer.from_pretrained(\"google/pegasus-xsum\")\n",
        "# Load model \n",
        "#model1 = PegasusForConditionalGeneration.from_pretrained(\"google/pegasus-xsum\")\n",
        "# Create tokens - number representation of our text\n",
        "tokens1 = tokenizer(reviewM1, truncation=True, padding=\"longest\", return_tensors=\"pt\")\n",
        "#print(tokens1)\n",
        "summary1 = model.generate(**tokens1, max_length= 150, min_length=20)\n",
        "#summary1[0]\n",
        "review1 = tokenizer.decode(summary1[0],skip_special_tokens=True)\n",
        "print(review1)"
      ],
      "metadata": {
        "id": "0jFSxQzABgzW",
        "colab": {
          "base_uri": "https://localhost:8080/"
        },
        "outputId": "f04b6680-e820-4b01-c7a7-1cca2db9f7c1"
      },
      "execution_count": null,
      "outputs": [
        {
          "output_type": "stream",
          "name": "stdout",
          "text": [
            "The third and final entry in Christopher Nolan's epic Dark Knight trilogy is a thrilling conclusion to an epic saga.\n"
          ]
        }
      ]
    },
    {
      "cell_type": "code",
      "source": [
        "review1"
      ],
      "metadata": {
        "colab": {
          "base_uri": "https://localhost:8080/",
          "height": 53
        },
        "id": "snqzmea9KqTz",
        "outputId": "ad9889d7-1c3d-4814-a84b-5472f677d9b6"
      },
      "execution_count": null,
      "outputs": [
        {
          "output_type": "execute_result",
          "data": {
            "text/plain": [
              "\"The third and final entry in Christopher Nolan's epic Dark Knight trilogy is a thrilling conclusion to one of the greatest comic book sagas of all time, as Batman faces off against Bane, a man with ties to Bruce Wayne's past.\""
            ],
            "application/vnd.google.colaboratory.intrinsic+json": {
              "type": "string"
            }
          },
          "metadata": {},
          "execution_count": 33
        }
      ]
    },
    {
      "cell_type": "markdown",
      "source": [
        "### movie 2 - summary of movie review  "
      ],
      "metadata": {
        "id": "3uo9NG_NURHb"
      }
    },
    {
      "cell_type": "code",
      "source": [
        "#M2 \n",
        "review_Movie_2 = pd.read_csv(\"/content/drive/MyDrive/IAS/text summarization/Movies reviews/Avengers_ Endgame 2019.csv\")\n",
        "review_Movie_2.drop(['username','rating','helpful','total','date','title'], axis=1,inplace=True)\n",
        "reviewM2 = review_Movie_2['review'].str.cat(sep=', ')\n",
        "reviewM2 = reviewM2.strip().replace('<br/>','')\n",
        "reviewM2=re.sub(\"[$@&?]\",\"\",reviewM2)\n",
        "tokens2 = tokenizer(reviewM2, truncation=True, padding=\"longest\", return_tensors=\"pt\")\n",
        "#print(tokens2)\n",
        "summary2 = model.generate(**tokens2,max_length = 150, min_length=50)\n",
        "review2 = tokenizer.decode(summary2[0],skip_special_tokens=True)"
      ],
      "metadata": {
        "id": "l-W24HsCToZw"
      },
      "execution_count": null,
      "outputs": []
    },
    {
      "cell_type": "code",
      "source": [
        "review2"
      ],
      "metadata": {
        "colab": {
          "base_uri": "https://localhost:8080/",
          "height": 53
        },
        "id": "NVkMzibdLPX5",
        "outputId": "f260240f-817c-4fef-c156-8e3bbe5ac7d2"
      },
      "execution_count": null,
      "outputs": [
        {
          "output_type": "execute_result",
          "data": {
            "text/plain": [
              "\"After seeing Avengers: Infinity War for the first time, I have to say that it's the best movie I've ever seen in my whole life and I can't wait to see what the next one is going to be like.\""
            ],
            "application/vnd.google.colaboratory.intrinsic+json": {
              "type": "string"
            }
          },
          "metadata": {},
          "execution_count": 35
        }
      ]
    },
    {
      "cell_type": "markdown",
      "source": [
        "### movie 3 - summary of movie review  "
      ],
      "metadata": {
        "id": "CQO249nbw8nh"
      }
    },
    {
      "cell_type": "code",
      "source": [
        "\n",
        "#M3\n",
        "review_Movie_3 = pd.read_csv(\"/content/drive/MyDrive/IAS/text summarization/Movies reviews/Inside Out 2015.csv\")\n",
        "review_Movie_3.drop(['username','rating','helpful','total','date','title'], axis=1,inplace=True)\n",
        "reviewM3 = review_Movie_3['review'].str.cat(sep=', ')\n",
        "reviewM3 = reviewM3.strip().replace('<br/>','')\n",
        "reviewM3=re.sub(\"[$@&?]\",\"\",reviewM3)\n",
        "tokens3 = tokenizer(reviewM3, truncation=True, padding=\"longest\", return_tensors=\"pt\")\n",
        "#print(tokens3)\n",
        "summary3 = model.generate(**tokens3, max_length= 150, min_length=50)\n",
        "review3 = tokenizer.decode(summary3[0],skip_special_tokens=True)"
      ],
      "metadata": {
        "id": "FTuPV7LRU_xN"
      },
      "execution_count": null,
      "outputs": []
    },
    {
      "cell_type": "code",
      "source": [
        "review3"
      ],
      "metadata": {
        "colab": {
          "base_uri": "https://localhost:8080/",
          "height": 53
        },
        "id": "CDR-8LpULUEu",
        "outputId": "1ae725c5-c967-4206-86ad-a56194a66df7"
      },
      "execution_count": null,
      "outputs": [
        {
          "output_type": "execute_result",
          "data": {
            "text/plain": [
              "\"Riley's Story is one of the best Pixar films I have ever seen, and I have to say, I am a huge fan of it, even though I have heard a lot of people say that it is too intense for young children.\""
            ],
            "application/vnd.google.colaboratory.intrinsic+json": {
              "type": "string"
            }
          },
          "metadata": {},
          "execution_count": 37
        }
      ]
    },
    {
      "cell_type": "markdown",
      "source": [
        "### movie 4 - summary of movie review  "
      ],
      "metadata": {
        "id": "MsymO5oyw-an"
      }
    },
    {
      "cell_type": "code",
      "source": [
        "#M4\n",
        "review_Movie_4 = pd.read_csv(\"/content/drive/MyDrive/IAS/text summarization/Movies reviews/The Wolf of Wall Street 2013.csv\")\n",
        "review_Movie_4.drop(['username','rating','helpful','total','date','title'], axis=1,inplace=True)\n",
        "reviewM4 = review_Movie_4['review'].str.cat(sep=', ')\n",
        "reviewM4 = reviewM4.strip().replace('<br/>','')\n",
        "reviewM4=re.sub(\"[$@&?]\",\"\",reviewM4)\n",
        "tokens4 = tokenizer(reviewM4, truncation=True, padding=\"longest\", return_tensors=\"pt\")\n",
        "#print(tokens4)\n",
        "summary4 = model.generate(**tokens4, max_length= 150, min_length=50)\n",
        "review4 = tokenizer.decode(summary4[0],skip_special_tokens=True)"
      ],
      "metadata": {
        "id": "AirRoSkekDUU"
      },
      "execution_count": null,
      "outputs": []
    },
    {
      "cell_type": "code",
      "source": [
        "review4"
      ],
      "metadata": {
        "colab": {
          "base_uri": "https://localhost:8080/",
          "height": 53
        },
        "id": "1f4dBfQoLVfu",
        "outputId": "dbbdd430-d105-43ff-c05a-fd68d658cc73"
      },
      "execution_count": null,
      "outputs": [
        {
          "output_type": "execute_result",
          "data": {
            "text/plain": [
              "\"Martin Scorcese's The Wolf of Wall Street tells the story of disgraced Wall Street financier Jordan Belfort (Leonardo DiCaprio) and the debauchery that goes along with his rise and fall from the top of the stock market to the bottom.\""
            ],
            "application/vnd.google.colaboratory.intrinsic+json": {
              "type": "string"
            }
          },
          "metadata": {},
          "execution_count": 39
        }
      ]
    },
    {
      "cell_type": "markdown",
      "source": [
        "### movie 5 - summary of movie review  "
      ],
      "metadata": {
        "id": "clSoWTxdxAXC"
      }
    },
    {
      "cell_type": "code",
      "source": [
        "#M5 \n",
        "review_Movie_5 = pd.read_csv(\"/content/drive/MyDrive/IAS/text summarization/Movies reviews/The Mask 1994.csv\")\n",
        "review_Movie_5.drop(['username','rating','helpful','total','date','title'], axis=1,inplace=True)\n",
        "reviewM5 = review_Movie_5['review'].str.cat(sep=', ')\n",
        "reviewM5 = reviewM5.strip().replace('<br/>','')\n",
        "reviewM5=re.sub(\"[$@&?]\",\"\",reviewM5)\n",
        "tokens5 = tokenizer(reviewM5, truncation=True, padding=\"longest\", return_tensors=\"pt\")\n",
        "#print(tokens5)\n",
        "summary5 = model.generate(**tokens5, max_length= 150, min_length=50)\n",
        "review5 = tokenizer.decode(summary5[0],skip_special_tokens=True)"
      ],
      "metadata": {
        "id": "Cd6ZS07Cu4Of"
      },
      "execution_count": null,
      "outputs": []
    },
    {
      "cell_type": "code",
      "source": [
        "review5"
      ],
      "metadata": {
        "colab": {
          "base_uri": "https://localhost:8080/",
          "height": 53
        },
        "id": "3a8bu6GxLW5c",
        "outputId": "82fd9f36-de81-4105-e944-6f2f17c122df"
      },
      "execution_count": null,
      "outputs": [
        {
          "output_type": "execute_result",
          "data": {
            "text/plain": [
              "'What do you think of Jim Carrey\\'s performance in \"The Mask\", one of his best acting roles of all time, and what do you think of the film as a whole, and what do you think of Jim Carrey\\'s performance in it?'"
            ],
            "application/vnd.google.colaboratory.intrinsic+json": {
              "type": "string"
            }
          },
          "metadata": {},
          "execution_count": 41
        }
      ]
    },
    {
      "cell_type": "markdown",
      "source": [
        "### movie 6 - summary of movie review  "
      ],
      "metadata": {
        "id": "QcRjmwAuxID4"
      }
    },
    {
      "cell_type": "code",
      "source": [
        "#M6\n",
        "review_Movie_6 = pd.read_csv(\"/content/drive/MyDrive/IAS/text summarization/Movies reviews/Ocean's Eleven 2001.csv\")\n",
        "review_Movie_6.drop(['username','rating','helpful','total','date','title'], axis=1,inplace=True)\n",
        "reviewM6 = review_Movie_6['review'].str.cat(sep=', ')\n",
        "reviewM6 = reviewM6.strip().replace('<br/>','')\n",
        "reviewM6=re.sub(\"[$@&?]\",\"\",reviewM6)\n",
        "tokens6 = tokenizer(reviewM6, truncation=True, padding=\"longest\", return_tensors=\"pt\")\n",
        "#print(tokens6)\n",
        "summary6 = model.generate(**tokens6, max_length= 150, min_length=50)\n",
        "review6 = tokenizer.decode(summary6[0],skip_special_tokens=True)\n"
      ],
      "metadata": {
        "id": "iMAe4ho2izwc"
      },
      "execution_count": null,
      "outputs": []
    },
    {
      "cell_type": "code",
      "source": [
        "review6"
      ],
      "metadata": {
        "colab": {
          "base_uri": "https://localhost:8080/",
          "height": 53
        },
        "id": "-X69_SaMLY0L",
        "outputId": "1b321b09-e353-4abc-872e-eb99e27379cc"
      },
      "execution_count": null,
      "outputs": [
        {
          "output_type": "execute_result",
          "data": {
            "text/plain": [
              "\"Ocean's Eight is one of the best movies I've seen in a long time, and one of the best movies I've seen in a long time because it's so slick, it's so entertaining and it's so well made.\""
            ],
            "application/vnd.google.colaboratory.intrinsic+json": {
              "type": "string"
            }
          },
          "metadata": {},
          "execution_count": 43
        }
      ]
    },
    {
      "cell_type": "markdown",
      "source": [
        "### movie 7 - summary of movie review  "
      ],
      "metadata": {
        "id": "8mVbfgGFxK8P"
      }
    },
    {
      "cell_type": "code",
      "source": [
        "#M7\n",
        "review_Movie_7 = pd.read_csv(\"/content/drive/MyDrive/IAS/text summarization/Movies reviews/Titanic 1997.csv\")\n",
        "review_Movie_7.drop(['username','rating','helpful','total','date','title'], axis=1,inplace=True)\n",
        "reviewM7 = review_Movie_7['review'].str.cat(sep=', ')\n",
        "reviewM7 = reviewM7.strip().replace('<br/>','')\n",
        "reviewM7=re.sub(\"[$@&?]\",\"\",reviewM7)\n",
        "tokens7 = tokenizer(reviewM7, truncation=True, padding=\"longest\", return_tensors=\"pt\")\n",
        "#print(tokens7)\n",
        "summary7 = model.generate(**tokens7, max_length= 150, min_length=50)\n",
        "review7 = tokenizer.decode(summary7[0],skip_special_tokens=True)"
      ],
      "metadata": {
        "id": "mT-HeXONk47f"
      },
      "execution_count": null,
      "outputs": []
    },
    {
      "cell_type": "code",
      "source": [
        "review7"
      ],
      "metadata": {
        "colab": {
          "base_uri": "https://localhost:8080/",
          "height": 53
        },
        "id": "IIFuSawNLchz",
        "outputId": "757da4ab-fd77-47c4-8c28-fd30819bc5dc"
      },
      "execution_count": null,
      "outputs": [
        {
          "output_type": "execute_result",
          "data": {
            "text/plain": [
              "\"With the 20th anniversary of the sinking of the Titanic just around the corner, we asked some of you to tell us what you think about the film - and here's what you had to say: Titanic is one of my all time favourite films.\""
            ],
            "application/vnd.google.colaboratory.intrinsic+json": {
              "type": "string"
            }
          },
          "metadata": {},
          "execution_count": 45
        }
      ]
    },
    {
      "cell_type": "markdown",
      "source": [
        "### movie 8 - summary of movie review  "
      ],
      "metadata": {
        "id": "yUOyJUFaxNSX"
      }
    },
    {
      "cell_type": "code",
      "source": [
        "\n",
        "#M8\n",
        "review_Movie_8 = pd.read_csv(\"/content/drive/MyDrive/IAS/text summarization/Movies reviews/Beauty and the Beast 2017.csv\")\n",
        "review_Movie_8.drop(['username','rating','helpful','total','date','title'], axis=1,inplace=True)\n",
        "reviewM8 = review_Movie_8['review'].str.cat(sep=', ')\n",
        "reviewM8 = reviewM8.strip().replace('<br/>','')\n",
        "reviewM8=re.sub(\"[$@&?]\",\"\",reviewM8)\n",
        "tokens8 = tokenizer(reviewM8, truncation=True, padding=\"longest\", return_tensors=\"pt\")\n",
        "#print(tokens8)\n",
        "summary8 = model.generate(**tokens8, max_length= 150, min_length=50)\n",
        "review8 = tokenizer.decode(summary8[0],skip_special_tokens=True)\n",
        "#review8 = review8.strip().replace('\\'',\"'\")\n"
      ],
      "metadata": {
        "id": "jyukqS75lXHH"
      },
      "execution_count": null,
      "outputs": []
    },
    {
      "cell_type": "code",
      "source": [
        "#review8.replace(\"\\'\", \"'\")\n",
        "#\"\\'\".replace(\"\\'\",\"'\")"
      ],
      "metadata": {
        "id": "8SL9QPkEDcTU"
      },
      "execution_count": null,
      "outputs": []
    },
    {
      "cell_type": "code",
      "source": [
        "review8"
      ],
      "metadata": {
        "colab": {
          "base_uri": "https://localhost:8080/",
          "height": 53
        },
        "id": "T1X6GUbbLd2z",
        "outputId": "3ec06fe0-c9cf-4abf-a319-3f6812d2adbd"
      },
      "execution_count": null,
      "outputs": [
        {
          "output_type": "execute_result",
          "data": {
            "text/plain": [
              "'Disney\\'s live-action remake of Beauty and the Beast has received a 7.8 out of 10 on IMDb, with one critic calling it \"disappointing\" and another saying it\\'s \"pointless\" and \"a waste of time.\"'"
            ],
            "application/vnd.google.colaboratory.intrinsic+json": {
              "type": "string"
            }
          },
          "metadata": {},
          "execution_count": 48
        }
      ]
    },
    {
      "cell_type": "markdown",
      "source": [
        "### movie 9 - summary of movie review  "
      ],
      "metadata": {
        "id": "d-YmqGIpxQIB"
      }
    },
    {
      "cell_type": "code",
      "source": [
        "#M9\n",
        "review_Movie_9 = pd.read_csv(\"/content/drive/MyDrive/IAS/text summarization/Movies reviews/Macbeth 2015.csv\")\n",
        "review_Movie_9.drop(['username','rating','helpful','total','date','title'], axis=1,inplace=True)\n",
        "reviewM9 = review_Movie_9['review'].str.cat(sep=', ')\n",
        "reviewM9 = reviewM9.strip().replace('<br/>','')\n",
        "reviewM9=re.sub(\"[$@&?]\",\"\",reviewM9)\n",
        "tokens9 = tokenizer(reviewM9, truncation=True, padding=\"longest\", return_tensors=\"pt\")\n",
        "#print(tokens9)\n",
        "summary9 = model.generate(**tokens9, max_length= 150, min_length=50)\n",
        "review9 = tokenizer.decode(summary9[0],skip_special_tokens=True)"
      ],
      "metadata": {
        "id": "c2V5kSFEmE4Y"
      },
      "execution_count": null,
      "outputs": []
    },
    {
      "cell_type": "code",
      "source": [
        "review9"
      ],
      "metadata": {
        "colab": {
          "base_uri": "https://localhost:8080/",
          "height": 70
        },
        "id": "_SOdw0aDLfkU",
        "outputId": "1a2a1568-b6d7-454a-f5a6-218165b7674c"
      },
      "execution_count": null,
      "outputs": [
        {
          "output_type": "execute_result",
          "data": {
            "text/plain": [
              "'Michael Fassbender and Marion Cotillard as Macbeth and Lady Macbeth were absolutely mind- blowing and amazing and encapsulated these characters as perfectly as you could get. Michael Fassbender and Marion Cotillard as Macbeth and Lady Macbeth were absolutely mind- blowing and amazing and encapsulated these characters as perfectly as you could get.'"
            ],
            "application/vnd.google.colaboratory.intrinsic+json": {
              "type": "string"
            }
          },
          "metadata": {},
          "execution_count": 50
        }
      ]
    },
    {
      "cell_type": "markdown",
      "source": [
        "### movie 10 - summary of movie review  "
      ],
      "metadata": {
        "id": "xnby7-prxSJA"
      }
    },
    {
      "cell_type": "code",
      "source": [
        "#M10\n",
        "review_Movie_10 = pd.read_csv(\"/content/drive/MyDrive/IAS/text summarization/Movies reviews/It 2017.csv\")\n",
        "review_Movie_10.drop(['username','rating','helpful','total','date','title'], axis=1,inplace=True)\n",
        "reviewM10 = review_Movie_10['review'].str.cat(sep=', ')\n",
        "reviewM10 = reviewM10.strip().replace('<br/>','')\n",
        "reviewM10=re.sub(\"[$@&?]\",\"\",reviewM10)\n",
        "tokens10 = tokenizer(reviewM10, truncation=True, padding=\"longest\", return_tensors=\"pt\")\n",
        "#print(tokens10)\n",
        "summary10 = model.generate(**tokens10, max_length= 150, min_length=50)\n",
        "review10 = tokenizer.decode(summary10[0],skip_special_tokens=True)"
      ],
      "metadata": {
        "id": "wm1lpR4XmX-g"
      },
      "execution_count": null,
      "outputs": []
    },
    {
      "cell_type": "code",
      "source": [
        "review10"
      ],
      "metadata": {
        "colab": {
          "base_uri": "https://localhost:8080/",
          "height": 53
        },
        "id": "NU4mCtp7LhA2",
        "outputId": "d8811145-9053-4ec5-ef79-7564a271d2d3"
      },
      "execution_count": null,
      "outputs": [
        {
          "output_type": "execute_result",
          "data": {
            "text/plain": [
              "\"Here's my review of IT, which is based on Stephen King's novel of the same name and tells the story of a group of children who go missing in a small town in the 1980s after a clown called Pennywise shows up.\""
            ],
            "application/vnd.google.colaboratory.intrinsic+json": {
              "type": "string"
            }
          },
          "metadata": {},
          "execution_count": 52
        }
      ]
    },
    {
      "cell_type": "markdown",
      "source": [
        "Combining all the 11 reviews into a dictionary 'review'"
      ],
      "metadata": {
        "id": "emfUU-6zxU06"
      }
    },
    {
      "cell_type": "code",
      "source": [
        "#review = list()\n",
        "# review[0] contains the summary of the movie that user has picked to watch (M11)\n",
        "#review[0][0] = review0\n",
        "review = {0: review0, 1: review1, 2: review2, 3: review3, 4: review4, 5: review5, 6:review6, 7:review7, 8: review8, 9: review9, 10:review10 }"
      ],
      "metadata": {
        "id": "0wjnm1IRoDR_"
      },
      "execution_count": null,
      "outputs": []
    },
    {
      "cell_type": "code",
      "source": [
        "print(review)"
      ],
      "metadata": {
        "colab": {
          "base_uri": "https://localhost:8080/"
        },
        "id": "R34MURVcr-9b",
        "outputId": "92c3f640-06bf-4274-a710-05ce425900a8"
      },
      "execution_count": null,
      "outputs": [
        {
          "output_type": "stream",
          "name": "stdout",
          "text": [
            "{0: 'Russell Crowe and Jennifer Connelly star in A Beautiful Mind, a film from Ron Howard, based on the true story of mathematician John Nash, who was diagnosed with a form of schizophrenia in the 1960s, and who spent time in a sanitarium.', 1: \"The third and final entry in Christopher Nolan's epic Dark Knight trilogy is a thrilling conclusion to one of the greatest comic book sagas of all time, as Batman faces off against Bane, a man with ties to Bruce Wayne's past.\", 2: \"After seeing Avengers: Infinity War for the first time, I have to say that it's the best movie I've ever seen in my whole life and I can't wait to see what the next one is going to be like.\", 3: \"Riley's Story is one of the best Pixar films I have ever seen, and I have to say, I am a huge fan of it, even though I have heard a lot of people say that it is too intense for young children.\", 4: \"Martin Scorcese's The Wolf of Wall Street tells the story of disgraced Wall Street financier Jordan Belfort (Leonardo DiCaprio) and the debauchery that goes along with his rise and fall from the top of the stock market to the bottom.\", 5: 'What do you think of Jim Carrey\\'s performance in \"The Mask\", one of his best acting roles of all time, and what do you think of the film as a whole, and what do you think of Jim Carrey\\'s performance in it?', 6: \"Ocean's Eight is one of the best movies I've seen in a long time, and one of the best movies I've seen in a long time because it's so slick, it's so entertaining and it's so well made.\", 7: \"With the 20th anniversary of the sinking of the Titanic just around the corner, we asked some of you to tell us what you think about the film - and here's what you had to say: Titanic is one of my all time favourite films.\", 8: 'Disney\\'s live-action remake of Beauty and the Beast has received a 7.8 out of 10 on IMDb, with one critic calling it \"disappointing\" and another saying it\\'s \"pointless\" and \"a waste of time.\"', 9: 'Michael Fassbender and Marion Cotillard as Macbeth and Lady Macbeth were absolutely mind- blowing and amazing and encapsulated these characters as perfectly as you could get. Michael Fassbender and Marion Cotillard as Macbeth and Lady Macbeth were absolutely mind- blowing and amazing and encapsulated these characters as perfectly as you could get.', 10: \"Here's my review of IT, which is based on Stephen King's novel of the same name and tells the story of a group of children who go missing in a small town in the 1980s after a clown called Pennywise shows up.\"}\n"
          ]
        }
      ]
    },
    {
      "cell_type": "code",
      "source": [
        "summary_final = ''\n",
        "for i in range (0,11):\n",
        "  #str1 = str(i)\n",
        "  summary_final = summary_final+ review[i]\n",
        "print(summary_final)"
      ],
      "metadata": {
        "colab": {
          "base_uri": "https://localhost:8080/"
        },
        "id": "nL_FXolzuOdt",
        "outputId": "c8e62758-8b10-4e23-c5a6-5cec87e37fad"
      },
      "execution_count": null,
      "outputs": [
        {
          "output_type": "stream",
          "name": "stdout",
          "text": [
            "Russell Crowe and Jennifer Connelly star in A Beautiful Mind, a film from Ron Howard, based on the true story of mathematician John Nash, who was diagnosed with a form of schizophrenia in the 1960s, and who spent time in a sanitarium.The third and final entry in Christopher Nolan's epic Dark Knight trilogy is a thrilling conclusion to one of the greatest comic book sagas of all time, as Batman faces off against Bane, a man with ties to Bruce Wayne's past.After seeing Avengers: Infinity War for the first time, I have to say that it's the best movie I've ever seen in my whole life and I can't wait to see what the next one is going to be like.Riley's Story is one of the best Pixar films I have ever seen, and I have to say, I am a huge fan of it, even though I have heard a lot of people say that it is too intense for young children.Martin Scorcese's The Wolf of Wall Street tells the story of disgraced Wall Street financier Jordan Belfort (Leonardo DiCaprio) and the debauchery that goes along with his rise and fall from the top of the stock market to the bottom.What do you think of Jim Carrey's performance in \"The Mask\", one of his best acting roles of all time, and what do you think of the film as a whole, and what do you think of Jim Carrey's performance in it?Ocean's Eight is one of the best movies I've seen in a long time, and one of the best movies I've seen in a long time because it's so slick, it's so entertaining and it's so well made.With the 20th anniversary of the sinking of the Titanic just around the corner, we asked some of you to tell us what you think about the film - and here's what you had to say: Titanic is one of my all time favourite films.Disney's live-action remake of Beauty and the Beast has received a 7.8 out of 10 on IMDb, with one critic calling it \"disappointing\" and another saying it's \"pointless\" and \"a waste of time.\"Michael Fassbender and Marion Cotillard as Macbeth and Lady Macbeth were absolutely mind- blowing and amazing and encapsulated these characters as perfectly as you could get. Michael Fassbender and Marion Cotillard as Macbeth and Lady Macbeth were absolutely mind- blowing and amazing and encapsulated these characters as perfectly as you could get.Here's my review of IT, which is based on Stephen King's novel of the same name and tells the story of a group of children who go missing in a small town in the 1980s after a clown called Pennywise shows up.\n"
          ]
        }
      ]
    },
    {
      "cell_type": "markdown",
      "source": [
        "### Final customized summary for the movie Beautiful Mind \n",
        "This final summary takes into the consideration of all the movies the user has watched from the history and generates a customized review/ summary the user picked for watching. "
      ],
      "metadata": {
        "id": "wDejanqI62Mh"
      }
    },
    {
      "cell_type": "code",
      "source": [
        "summary_final"
      ],
      "metadata": {
        "colab": {
          "base_uri": "https://localhost:8080/",
          "height": 296
        },
        "id": "HPnpv7OMvWdI",
        "outputId": "6b7d50a4-8f24-4a6f-8e68-499f41f4aa77"
      },
      "execution_count": null,
      "outputs": [
        {
          "output_type": "execute_result",
          "data": {
            "text/plain": [
              "'Russell Crowe and Jennifer Connelly star in A Beautiful Mind, a film from Ron Howard, based on the true story of mathematician John Nash, who was diagnosed with a form of schizophrenia in the 1960s, and who spent time in a sanitarium.The third and final entry in Christopher Nolan\\'s epic Dark Knight trilogy is a thrilling conclusion to one of the greatest comic book sagas of all time, as Batman faces off against Bane, a man with ties to Bruce Wayne\\'s past.After seeing Avengers: Infinity War for the first time, I have to say that it\\'s the best movie I\\'ve ever seen in my whole life and I can\\'t wait to see what the next one is going to be like.Riley\\'s Story is one of the best Pixar films I have ever seen, and I have to say, I am a huge fan of it, even though I have heard a lot of people say that it is too intense for young children.Martin Scorcese\\'s The Wolf of Wall Street tells the story of disgraced Wall Street financier Jordan Belfort (Leonardo DiCaprio) and the debauchery that goes along with his rise and fall from the top of the stock market to the bottom.What do you think of Jim Carrey\\'s performance in \"The Mask\", one of his best acting roles of all time, and what do you think of the film as a whole, and what do you think of Jim Carrey\\'s performance in it?Ocean\\'s Eight is one of the best movies I\\'ve seen in a long time, and one of the best movies I\\'ve seen in a long time because it\\'s so slick, it\\'s so entertaining and it\\'s so well made.With the 20th anniversary of the sinking of the Titanic just around the corner, we asked some of you to tell us what you think about the film - and here\\'s what you had to say: Titanic is one of my all time favourite films.Disney\\'s live-action remake of Beauty and the Beast has received a 7.8 out of 10 on IMDb, with one critic calling it \"disappointing\" and another saying it\\'s \"pointless\" and \"a waste of time.\"Michael Fassbender and Marion Cotillard as Macbeth and Lady Macbeth were absolutely mind- blowing and amazing and encapsulated these characters as perfectly as you could get. Michael Fassbender and Marion Cotillard as Macbeth and Lady Macbeth were absolutely mind- blowing and amazing and encapsulated these characters as perfectly as you could get.Here\\'s my review of IT, which is based on Stephen King\\'s novel of the same name and tells the story of a group of children who go missing in a small town in the 1980s after a clown called Pennywise shows up.'"
            ],
            "application/vnd.google.colaboratory.intrinsic+json": {
              "type": "string"
            }
          },
          "metadata": {},
          "execution_count": 56
        }
      ]
    },
    {
      "cell_type": "code",
      "source": [
        "import textwrap\n",
        "  \n",
        "#value = \"\"\"This function wraps the input paragraph such that each line\n",
        "#in the paragraph is at most width characters long. The wrap method\n",
        "#returns a list of output lines. The returned list\n",
        "#is empty if the wrapped\n",
        "#output has no content.\"\"\"\n",
        "  \n",
        "# Wrap this text.\n",
        "wrapper = textwrap.TextWrapper(width=100)\n",
        "  \n",
        "word_list = wrapper.wrap(text=summary_final)\n",
        "  \n",
        "# Print each line.\n",
        "for element in word_list:\n",
        "    print(element)"
      ],
      "metadata": {
        "colab": {
          "base_uri": "https://localhost:8080/"
        },
        "id": "cbtbxu_4OLb_",
        "outputId": "a6b3708d-0e6b-42d7-c7d2-d63d2b773062"
      },
      "execution_count": null,
      "outputs": [
        {
          "output_type": "stream",
          "name": "stdout",
          "text": [
            "Russell Crowe and Jennifer Connelly star in A Beautiful Mind, a film from Ron Howard, based on the\n",
            "true story of mathematician John Nash, who was diagnosed with a form of schizophrenia in the 1960s,\n",
            "and who spent time in a sanitarium.The third and final entry in Christopher Nolan's epic Dark Knight\n",
            "trilogy is a thrilling conclusion to one of the greatest comic book sagas of all time, as Batman\n",
            "faces off against Bane, a man with ties to Bruce Wayne's past.After seeing Avengers: Infinity War\n",
            "for the first time, I have to say that it's the best movie I've ever seen in my whole life and I\n",
            "can't wait to see what the next one is going to be like.Riley's Story is one of the best Pixar films\n",
            "I have ever seen, and I have to say, I am a huge fan of it, even though I have heard a lot of people\n",
            "say that it is too intense for young children.Martin Scorcese's The Wolf of Wall Street tells the\n",
            "story of disgraced Wall Street financier Jordan Belfort (Leonardo DiCaprio) and the debauchery that\n",
            "goes along with his rise and fall from the top of the stock market to the bottom.What do you think\n",
            "of Jim Carrey's performance in \"The Mask\", one of his best acting roles of all time, and what do you\n",
            "think of the film as a whole, and what do you think of Jim Carrey's performance in it?Ocean's Eight\n",
            "is one of the best movies I've seen in a long time, and one of the best movies I've seen in a long\n",
            "time because it's so slick, it's so entertaining and it's so well made.With the 20th anniversary of\n",
            "the sinking of the Titanic just around the corner, we asked some of you to tell us what you think\n",
            "about the film - and here's what you had to say: Titanic is one of my all time favourite\n",
            "films.Disney's live-action remake of Beauty and the Beast has received a 7.8 out of 10 on IMDb, with\n",
            "one critic calling it \"disappointing\" and another saying it's \"pointless\" and \"a waste of\n",
            "time.\"Michael Fassbender and Marion Cotillard as Macbeth and Lady Macbeth were absolutely mind-\n",
            "blowing and amazing and encapsulated these characters as perfectly as you could get. Michael\n",
            "Fassbender and Marion Cotillard as Macbeth and Lady Macbeth were absolutely mind- blowing and\n",
            "amazing and encapsulated these characters as perfectly as you could get.Here's my review of IT,\n",
            "which is based on Stephen King's novel of the same name and tells the story of a group of children\n",
            "who go missing in a small town in the 1980s after a clown called Pennywise shows up.\n"
          ]
        }
      ]
    },
    {
      "cell_type": "markdown",
      "source": [
        "### Challenges: \n",
        "- As we can see from the above result of the text summarization, few words are not understandable and in some cases the lines seem to be repeated again in order to get an appropriate output. \n",
        "- As the IMDB Dataset of these movies has been used, which contain reviews of the movie by people around the world, most of them expressed in first person like in 'I/We'. This makes the summarizer produce summary which contains the I / We pronouns which are not expected in the summary (Summary always are in 3rd person prespectives ). \n",
        "- The Pegasus model could create a one line summary only. When a 30 word containing one line summary is expected, the model doesn't give good results.\n"
      ],
      "metadata": {
        "id": "Sbwok-D6yZ62"
      }
    },
    {
      "cell_type": "markdown",
      "source": [
        "### Conclusion: \n",
        "The results obtained didn't match with the expectation. Major Challenge was to find the dataset to solve the above problem. With very limited data to work with there appears the problem of inefficiency and poor performance. "
      ],
      "metadata": {
        "id": "48kI6XlBxkiI"
      }
    },
    {
      "cell_type": "code",
      "source": [],
      "metadata": {
        "id": "WxftDJ0kBri1"
      },
      "execution_count": null,
      "outputs": []
    }
  ]
}